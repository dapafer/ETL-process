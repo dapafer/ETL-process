{
 "cells": [
  {
   "attachments": {},
   "cell_type": "markdown",
   "metadata": {},
   "source": [
    "# **SCRAPING.**"
   ]
  },
  {
   "attachments": {},
   "cell_type": "markdown",
   "metadata": {},
   "source": [
    "## **Importación de librerías.**"
   ]
  },
  {
   "cell_type": "code",
   "execution_count": 1,
   "metadata": {},
   "outputs": [],
   "source": [
    "import time\n",
    "\n",
    "import warnings\n",
    "warnings.filterwarnings('ignore')"
   ]
  },
  {
   "attachments": {},
   "cell_type": "markdown",
   "metadata": {},
   "source": [
    "### **Pandas.**"
   ]
  },
  {
   "cell_type": "code",
   "execution_count": 2,
   "metadata": {},
   "outputs": [],
   "source": [
    "import pandas as pd"
   ]
  },
  {
   "attachments": {},
   "cell_type": "markdown",
   "metadata": {},
   "source": [
    "### **BeautifulSoup.**"
   ]
  },
  {
   "cell_type": "code",
   "execution_count": 3,
   "metadata": {},
   "outputs": [],
   "source": [
    "import requests as req \n",
    "from bs4 import BeautifulSoup as bs"
   ]
  },
  {
   "attachments": {},
   "cell_type": "markdown",
   "metadata": {},
   "source": [
    "### **Selenium.**"
   ]
  },
  {
   "cell_type": "code",
   "execution_count": 4,
   "metadata": {},
   "outputs": [],
   "source": [
    "from selenium import webdriver\n",
    "from selenium.webdriver.chrome.options import Options\n",
    "\n",
    "# sustituye al archivo\n",
    "from webdriver_manager.chrome import ChromeDriverManager\n",
    "\n",
    "# para buscar por tag, clase, id...\n",
    "from selenium.webdriver.common.by import By\n",
    "\n",
    "# para pulsar teclas\n",
    "from selenium.webdriver.common.keys import Keys\n",
    "\n",
    "# para esperar a que cargue\n",
    "#from selenium.webdriver.support.ui import WebDriverWait\n",
    "\n",
    "# condiciones esperadas\n",
    "#from selenium.webdriver.support import expected_conditions as EC"
   ]
  },
  {
   "cell_type": "code",
   "execution_count": 5,
   "metadata": {},
   "outputs": [
    {
     "name": "stderr",
     "output_type": "stream",
     "text": [
      "[WDM] - Downloading: 100%|██████████| 8.81M/8.81M [00:00<00:00, 14.9MB/s]\n"
     ]
    }
   ],
   "source": [
    "# instala driver de chrome\n",
    "PATH = ChromeDriverManager().install()\n",
    "\n",
    "# driver configuration\n",
    "opciones = Options()\n",
    "\n",
    "# quita la bandera de ser robot\n",
    "opciones.add_experimental_option('excludeSwitches', ['enable-automation'])\n",
    "opciones.add_experimental_option('useAutomationExtension', False)\n",
    "\n",
    "# si True, no aperece la ventana (headless=no visible)\n",
    "opciones.headless = True\n",
    "\n",
    "# comienza maximizado\n",
    "opciones.add_argument('--start-maximized')\n",
    "\n",
    "# mantiene las cookies\n",
    "#opciones.add_argument('user-data-dir=selenium')\n",
    "\n",
    "# adblocker\n",
    "#opciones.add_extension('driver_folder/adblock.crx')\n",
    "\n",
    "# modo incognito\n",
    "opciones.add_argument('--incognito')\n",
    "\n",
    "# guardar las cookies\n",
    "#opciones.add_argument('user-data-dir=cookies')    # mantiene las coockies"
   ]
  },
  {
   "attachments": {},
   "cell_type": "markdown",
   "metadata": {},
   "source": [
    "## **Proceso de scraping.**"
   ]
  },
  {
   "attachments": {},
   "cell_type": "markdown",
   "metadata": {},
   "source": [
    "### **Acceso a la tienda.**"
   ]
  },
  {
   "cell_type": "code",
   "execution_count": 6,
   "metadata": {},
   "outputs": [],
   "source": [
    "url = 'https://www.mercadona.es'\n",
    "driver = webdriver.Chrome(PATH, options=opciones)\n",
    "driver.get(url)\n",
    "\n",
    "# acepta cookies\n",
    "driver.find_element(By.XPATH, '//*[@id=\"root\"]/div/div/div/button[2]').click()\n",
    "time.sleep(3)\n",
    "\n",
    "# escribo texto en \"codigo postal\"\n",
    "cp = driver.find_element(By.XPATH, '//*[@id=\"root\"]/header/div/div/form/div/input')\n",
    "cp.send_keys('28045')\n",
    "\n",
    "# entrar a la tienda\n",
    "driver.find_element(By.XPATH, '//*[@id=\"root\"]/header/div/div/form/input').click()\n",
    "time.sleep(3)\n",
    "\n",
    "# entrar a \"categorias\"\n",
    "driver.find_element(By.XPATH, '//*[@id=\"root\"]/header/div[1]/nav/a[1]').click()\n",
    "time.sleep(3)\n",
    "\n",
    "# entrar a \"fruta y verdura\"\n",
    "driver.find_element(By.XPATH, '//*[@id=\"root\"]/div[2]/div[1]/ul/li[17]/div/button/span/label').click()\n",
    "time.sleep(3)"
   ]
  },
  {
   "attachments": {},
   "cell_type": "markdown",
   "metadata": {},
   "source": [
    "### **Fruta scraping.**"
   ]
  },
  {
   "cell_type": "code",
   "execution_count": 7,
   "metadata": {},
   "outputs": [
    {
     "data": {
      "text/plain": [
       "['Plátano de Canarias',\n",
       " 'Banana',\n",
       " 'Plátano macho',\n",
       " 'Uva blanca sin semillas',\n",
       " 'Uva roja sin semillas',\n",
       " 'Manzana Golden',\n",
       " 'Manzanas Golden',\n",
       " 'Pera Conferencia',\n",
       " 'Peras Conferencia',\n",
       " 'Pera Ercolina',\n",
       " 'Manzana Granny Smith',\n",
       " 'Manzana Evelina',\n",
       " 'Manzana Evelina',\n",
       " 'Manzana Envy',\n",
       " 'Manzanas Envy',\n",
       " '1/4 Sandía baja en semillas',\n",
       " 'Media sandía baja en semillas',\n",
       " 'Sandía baja en semillas',\n",
       " 'Limones',\n",
       " 'Limón',\n",
       " 'Mandarina',\n",
       " 'Mandarina',\n",
       " 'Naranja para mesa',\n",
       " 'Naranjas',\n",
       " 'Naranjas',\n",
       " 'Pomelo',\n",
       " 'Limas',\n",
       " 'Kiwi verde',\n",
       " 'Kiwis verdes',\n",
       " 'Aguacate',\n",
       " 'Aguacates',\n",
       " 'Piña',\n",
       " 'Media piña',\n",
       " 'Guacamole Hacendado',\n",
       " 'Guacamole Hacendado',\n",
       " 'Mango',\n",
       " 'Piña natural a rodajas',\n",
       " 'Papaya',\n",
       " 'Media papaya',\n",
       " 'Chirimoya',\n",
       " 'Fresón',\n",
       " 'Frambuesas',\n",
       " 'Níspero',\n",
       " 'Moras',\n",
       " 'Arándanos',\n",
       " 'Arándanos']"
      ]
     },
     "execution_count": 7,
     "metadata": {},
     "output_type": "execute_result"
    }
   ],
   "source": [
    "# extraemos nombres de frutas\n",
    "list_frutas = driver.find_elements(By.CSS_SELECTOR, 'h4.subhead1-r.product-cell__description-name[data-test=\"product-cell-name\"]')\n",
    "frutas = [fruta.text for fruta in list_frutas]\n",
    "\n",
    "frutas"
   ]
  },
  {
   "cell_type": "code",
   "execution_count": 8,
   "metadata": {},
   "outputs": [
    {
     "data": {
      "text/plain": [
       "['Plátano y uva',\n",
       " 'Manzana y pera',\n",
       " 'Melón y sandía',\n",
       " 'Cítricos',\n",
       " 'Fruta tropical',\n",
       " 'Otras frutas']"
      ]
     },
     "execution_count": 8,
     "metadata": {},
     "output_type": "execute_result"
    }
   ],
   "source": [
    "# extraemos nombres de subcategorias\n",
    "list_sub_fruta = driver.find_elements(By.CSS_SELECTOR, 'h2.section__header.headline1-b')\n",
    "sub_fruta = [sub.text for sub in list_sub_fruta]\n",
    "\n",
    "sub_fruta"
   ]
  },
  {
   "cell_type": "code",
   "execution_count": 9,
   "metadata": {},
   "outputs": [
    {
     "data": {
      "text/plain": [
       "'Fruta'"
      ]
     },
     "execution_count": 9,
     "metadata": {},
     "output_type": "execute_result"
    }
   ],
   "source": [
    "# extraemos nombre de categoria\n",
    "cat_fruta = driver.find_element(By.XPATH, '//h1[@id=\"content\" and contains(@class, \"category-detail__title\")]').text\n",
    "\n",
    "cat_fruta"
   ]
  },
  {
   "attachments": {},
   "cell_type": "markdown",
   "metadata": {},
   "source": [
    "### **Cambio de categoría.**"
   ]
  },
  {
   "cell_type": "code",
   "execution_count": 10,
   "metadata": {},
   "outputs": [],
   "source": [
    "driver.find_element(By.XPATH, '//*[@id=\"root\"]/div[2]/div[1]/ul/li[17]/div/ul/li[2]/button').click()\n",
    "time.sleep(3)"
   ]
  },
  {
   "attachments": {},
   "cell_type": "markdown",
   "metadata": {},
   "source": [
    "### **Ensaladas scraping.**"
   ]
  },
  {
   "cell_type": "code",
   "execution_count": 11,
   "metadata": {},
   "outputs": [
    {
     "data": {
      "text/plain": [
       "['Lechuga iceberg',\n",
       " 'Ensalada mezcla 4 estaciones',\n",
       " 'Lechugas corazón romana',\n",
       " 'Ensalada mezcla brotes tiernos',\n",
       " 'Canónigos base para ensalada',\n",
       " 'Lechuga iceberg base para ensalada',\n",
       " 'Ensalada mezcla gourmet',\n",
       " 'Cogollos de lechuga',\n",
       " 'Lechuga corazón romana',\n",
       " 'Endibias',\n",
       " 'Ensalada mezcla brotes tiernos maxi',\n",
       " 'Ensalada mezcla gourmet maxi',\n",
       " 'Ensalada mezcla tierna',\n",
       " 'Rúcula base para ensalada',\n",
       " 'Cogollos corazón de lechuga',\n",
       " 'Ensalada mezcla primavera',\n",
       " 'Ensalada mezcla dúo canónigos y rúcula',\n",
       " 'Ensalada mezcla fresca',\n",
       " 'Lechuga hoja roble',\n",
       " 'Escarola rizada base para ensalada',\n",
       " 'Escarola rizada',\n",
       " 'Espinaca baby base para ensalada',\n",
       " 'Lechuga romana cortada',\n",
       " 'Ensalada César',\n",
       " 'Ensalada California',\n",
       " 'Wraps Texas',\n",
       " 'Ensalada de la casa',\n",
       " 'Ensalada mil islas',\n",
       " 'Ensalada ensatún',\n",
       " 'Ensalada jamón',\n",
       " 'Ensalada de pasta',\n",
       " 'Ensalada queso de cabra',\n",
       " 'Ensalada de pasta Listo para Comer']"
      ]
     },
     "execution_count": 11,
     "metadata": {},
     "output_type": "execute_result"
    }
   ],
   "source": [
    "# extraemos nombres de ensaladas\n",
    "list_ensaladas = driver.find_elements(By.CSS_SELECTOR, 'h4.subhead1-r.product-cell__description-name[data-test=\"product-cell-name\"]')\n",
    "ensaladas = [ensalada.text for ensalada in list_ensaladas]\n",
    "\n",
    "ensaladas"
   ]
  },
  {
   "cell_type": "code",
   "execution_count": 12,
   "metadata": {},
   "outputs": [
    {
     "data": {
      "text/plain": [
       "['Lechuga', 'Ensalada preparada']"
      ]
     },
     "execution_count": 12,
     "metadata": {},
     "output_type": "execute_result"
    }
   ],
   "source": [
    "# extraemos nombres de subcategorias\n",
    "list_sub_ensalada = driver.find_elements(By.CSS_SELECTOR, 'h2.section__header.headline1-b')\n",
    "sub_ensalada = [sub.text for sub in list_sub_ensalada]\n",
    "\n",
    "sub_ensalada"
   ]
  },
  {
   "cell_type": "code",
   "execution_count": 13,
   "metadata": {},
   "outputs": [
    {
     "data": {
      "text/plain": [
       "'Lechuga y ensalada preparada'"
      ]
     },
     "execution_count": 13,
     "metadata": {},
     "output_type": "execute_result"
    }
   ],
   "source": [
    "# extraemos nombre de categoria\n",
    "cat_ensalada = driver.find_element(By.XPATH, '//h1[@id=\"content\" and contains(@class, \"category-detail__title\")]').text\n",
    "\n",
    "cat_ensalada"
   ]
  },
  {
   "attachments": {},
   "cell_type": "markdown",
   "metadata": {},
   "source": [
    "### **Cambio de categoría.**"
   ]
  },
  {
   "cell_type": "code",
   "execution_count": 14,
   "metadata": {},
   "outputs": [],
   "source": [
    "driver.find_element(By.XPATH, '//*[@id=\"root\"]/div[2]/div[1]/ul/li[17]/div/ul/li[3]/button').click()\n",
    "time.sleep(3)"
   ]
  },
  {
   "attachments": {},
   "cell_type": "markdown",
   "metadata": {},
   "source": [
    "### **Verduras scraping.**"
   ]
  },
  {
   "cell_type": "code",
   "execution_count": 15,
   "metadata": {},
   "outputs": [
    {
     "data": {
      "text/plain": [
       "['Patata',\n",
       " 'Patatas',\n",
       " 'Patatas rojas',\n",
       " 'Patatas',\n",
       " 'Patatas guarnición',\n",
       " 'Batata',\n",
       " 'Patatas especial para freir',\n",
       " 'Cebollas tiernas',\n",
       " 'Cebollas',\n",
       " 'Cebollas',\n",
       " 'Ajos morados',\n",
       " 'Cebollas dulces',\n",
       " 'Ajo tierno',\n",
       " 'Ajos morados',\n",
       " 'Cebollas rojas',\n",
       " 'Yuca',\n",
       " 'Ajo negro dientes pelados',\n",
       " 'Picada de ajo y Perejil',\n",
       " 'Tomate ensalada',\n",
       " 'Tomate canario',\n",
       " 'Tomate pera',\n",
       " 'Tomates pera',\n",
       " 'Tomates cherry pera kumato',\n",
       " 'Tomates cherry',\n",
       " 'Tomates cherry en rama Dulcita',\n",
       " 'Tomates kumato',\n",
       " 'Tomates',\n",
       " 'Tomate kumato negro',\n",
       " 'Tomate rallado',\n",
       " 'Rama de Tomates',\n",
       " 'Tomate rosa',\n",
       " 'Tomate ensalada',\n",
       " 'Zanahorias',\n",
       " 'Pepino',\n",
       " 'Pepino holandés',\n",
       " 'Zanahorias',\n",
       " 'Pepinos',\n",
       " 'Palitos de zanahoria',\n",
       " 'Zanahoria rallada base para ensalada',\n",
       " 'Pimiento rojo',\n",
       " 'Calabacín verde',\n",
       " 'Pimiento verde freír',\n",
       " 'Calabacín blanco',\n",
       " 'Pimiento verde',\n",
       " 'Pimientos tricolor rojo, amarillo y verde',\n",
       " 'Pimientos semipicantes',\n",
       " 'Pimientos rojos picantes',\n",
       " 'Coliflor',\n",
       " 'Repollo liso',\n",
       " 'Medio repollo liso',\n",
       " 'Repollo rizado',\n",
       " 'Medio repollo rizado',\n",
       " 'Col lombarda',\n",
       " 'Media col lombarda',\n",
       " 'Champiñón pequeño',\n",
       " 'Champiñón laminado limpio',\n",
       " 'Seta',\n",
       " 'Champiñón grande',\n",
       " 'Seta laminada',\n",
       " 'Champiñón Portobello',\n",
       " 'Setas al plato con perejil',\n",
       " 'Salteado de setas laminadas',\n",
       " 'Seta shiitake',\n",
       " 'Perejil troceado',\n",
       " 'Jengibre',\n",
       " 'Cilantro',\n",
       " 'Albahaca',\n",
       " 'Hierbabuena',\n",
       " 'Cebollino',\n",
       " 'Espinacas cortadas',\n",
       " 'Brócoli',\n",
       " 'Berenjena',\n",
       " 'Judía verde plana',\n",
       " 'Judía verde plana',\n",
       " 'Acelgas cortadas',\n",
       " 'Puerros',\n",
       " 'Alcachofa',\n",
       " 'Judía verde redonda',\n",
       " 'Calabaza cacahuete cortada a trozos',\n",
       " 'Apio verde',\n",
       " 'Preparado de verdura para cocido',\n",
       " 'Espárrago verde fino',\n",
       " 'Rabanitos',\n",
       " 'Remolacha cocida y pelada',\n",
       " 'Acelgas',\n",
       " 'Maíz dulce en mazorca cocido',\n",
       " 'Calabaza cacahuete',\n",
       " 'Media calabaza cacahuete',\n",
       " 'Bimi',\n",
       " 'Espárrago verde grueso',\n",
       " 'Maíz dulce en mazorca',\n",
       " '3 Vegetales para micro',\n",
       " 'Floretas de brócoli para micro',\n",
       " 'Mix de verduras paisana para micro',\n",
       " 'Sopa juliana para micro',\n",
       " 'Patata para micro',\n",
       " 'Batata para micro',\n",
       " 'Mix de verduras jardinera para micro']"
      ]
     },
     "execution_count": 15,
     "metadata": {},
     "output_type": "execute_result"
    }
   ],
   "source": [
    "# extraemos nombres de verduras\n",
    "list_verduras = driver.find_elements(By.CSS_SELECTOR, 'h4.subhead1-r.product-cell__description-name[data-test=\"product-cell-name\"]')\n",
    "verduras = [verdura.text for verdura in list_verduras]\n",
    "\n",
    "verduras"
   ]
  },
  {
   "cell_type": "code",
   "execution_count": 16,
   "metadata": {},
   "outputs": [
    {
     "data": {
      "text/plain": [
       "['Patata',\n",
       " 'Cebolla y ajo',\n",
       " 'Tomate',\n",
       " 'Pepino y zanahoria',\n",
       " 'Calabacín y pimiento',\n",
       " 'Repollo y col',\n",
       " 'Setas y champiñones',\n",
       " 'Hierbas aromáticas',\n",
       " 'Otras verduras y hortalizas',\n",
       " 'Verduras al vapor']"
      ]
     },
     "execution_count": 16,
     "metadata": {},
     "output_type": "execute_result"
    }
   ],
   "source": [
    "# extraemos nombres de subcategorias\n",
    "list_sub_verdura = driver.find_elements(By.CSS_SELECTOR, 'h2.section__header.headline1-b')\n",
    "sub_verdura = [sub.text for sub in list_sub_verdura]\n",
    "\n",
    "sub_verdura"
   ]
  },
  {
   "cell_type": "code",
   "execution_count": 17,
   "metadata": {},
   "outputs": [
    {
     "data": {
      "text/plain": [
       "'Verdura'"
      ]
     },
     "execution_count": 17,
     "metadata": {},
     "output_type": "execute_result"
    }
   ],
   "source": [
    "# extraemos nombre de categoria\n",
    "cat_verdura = driver.find_element(By.XPATH, '//h1[@id=\"content\" and contains(@class, \"category-detail__title\")]').text\n",
    "\n",
    "cat_verdura"
   ]
  },
  {
   "attachments": {},
   "cell_type": "markdown",
   "metadata": {},
   "source": [
    "### **Cierre del driver.**"
   ]
  },
  {
   "cell_type": "code",
   "execution_count": 18,
   "metadata": {},
   "outputs": [],
   "source": [
    "#driver.quit()"
   ]
  },
  {
   "attachments": {},
   "cell_type": "markdown",
   "metadata": {},
   "source": [
    "## **Creación y exportación de tablas.**"
   ]
  },
  {
   "attachments": {},
   "cell_type": "markdown",
   "metadata": {},
   "source": [
    "### **Productos.**"
   ]
  },
  {
   "cell_type": "code",
   "execution_count": 19,
   "metadata": {},
   "outputs": [
    {
     "data": {
      "text/html": [
       "<div>\n",
       "<style scoped>\n",
       "    .dataframe tbody tr th:only-of-type {\n",
       "        vertical-align: middle;\n",
       "    }\n",
       "\n",
       "    .dataframe tbody tr th {\n",
       "        vertical-align: top;\n",
       "    }\n",
       "\n",
       "    .dataframe thead th {\n",
       "        text-align: right;\n",
       "    }\n",
       "</style>\n",
       "<table border=\"1\" class=\"dataframe\">\n",
       "  <thead>\n",
       "    <tr style=\"text-align: right;\">\n",
       "      <th></th>\n",
       "      <th>producto</th>\n",
       "    </tr>\n",
       "  </thead>\n",
       "  <tbody>\n",
       "    <tr>\n",
       "      <th>0</th>\n",
       "      <td>Plátano de Canarias</td>\n",
       "    </tr>\n",
       "    <tr>\n",
       "      <th>1</th>\n",
       "      <td>Banana</td>\n",
       "    </tr>\n",
       "    <tr>\n",
       "      <th>2</th>\n",
       "      <td>Plátano macho</td>\n",
       "    </tr>\n",
       "    <tr>\n",
       "      <th>3</th>\n",
       "      <td>Uva blanca sin semillas</td>\n",
       "    </tr>\n",
       "    <tr>\n",
       "      <th>4</th>\n",
       "      <td>Uva roja sin semillas</td>\n",
       "    </tr>\n",
       "    <tr>\n",
       "      <th>5</th>\n",
       "      <td>Manzana Golden</td>\n",
       "    </tr>\n",
       "    <tr>\n",
       "      <th>6</th>\n",
       "      <td>Manzanas Golden</td>\n",
       "    </tr>\n",
       "    <tr>\n",
       "      <th>7</th>\n",
       "      <td>Pera Conferencia</td>\n",
       "    </tr>\n",
       "    <tr>\n",
       "      <th>8</th>\n",
       "      <td>Peras Conferencia</td>\n",
       "    </tr>\n",
       "    <tr>\n",
       "      <th>9</th>\n",
       "      <td>Pera Ercolina</td>\n",
       "    </tr>\n",
       "    <tr>\n",
       "      <th>10</th>\n",
       "      <td>Manzana Granny Smith</td>\n",
       "    </tr>\n",
       "    <tr>\n",
       "      <th>11</th>\n",
       "      <td>Manzana Evelina</td>\n",
       "    </tr>\n",
       "    <tr>\n",
       "      <th>12</th>\n",
       "      <td>Manzana Evelina</td>\n",
       "    </tr>\n",
       "    <tr>\n",
       "      <th>13</th>\n",
       "      <td>Manzana Envy</td>\n",
       "    </tr>\n",
       "    <tr>\n",
       "      <th>14</th>\n",
       "      <td>Manzanas Envy</td>\n",
       "    </tr>\n",
       "    <tr>\n",
       "      <th>15</th>\n",
       "      <td>1/4 Sandía baja en semillas</td>\n",
       "    </tr>\n",
       "    <tr>\n",
       "      <th>16</th>\n",
       "      <td>Media sandía baja en semillas</td>\n",
       "    </tr>\n",
       "    <tr>\n",
       "      <th>17</th>\n",
       "      <td>Sandía baja en semillas</td>\n",
       "    </tr>\n",
       "    <tr>\n",
       "      <th>18</th>\n",
       "      <td>Limones</td>\n",
       "    </tr>\n",
       "    <tr>\n",
       "      <th>19</th>\n",
       "      <td>Limón</td>\n",
       "    </tr>\n",
       "    <tr>\n",
       "      <th>20</th>\n",
       "      <td>Mandarina</td>\n",
       "    </tr>\n",
       "    <tr>\n",
       "      <th>21</th>\n",
       "      <td>Mandarina</td>\n",
       "    </tr>\n",
       "    <tr>\n",
       "      <th>22</th>\n",
       "      <td>Naranja para mesa</td>\n",
       "    </tr>\n",
       "    <tr>\n",
       "      <th>23</th>\n",
       "      <td>Naranjas</td>\n",
       "    </tr>\n",
       "    <tr>\n",
       "      <th>24</th>\n",
       "      <td>Naranjas</td>\n",
       "    </tr>\n",
       "    <tr>\n",
       "      <th>25</th>\n",
       "      <td>Pomelo</td>\n",
       "    </tr>\n",
       "    <tr>\n",
       "      <th>26</th>\n",
       "      <td>Limas</td>\n",
       "    </tr>\n",
       "    <tr>\n",
       "      <th>27</th>\n",
       "      <td>Kiwi verde</td>\n",
       "    </tr>\n",
       "    <tr>\n",
       "      <th>28</th>\n",
       "      <td>Kiwis verdes</td>\n",
       "    </tr>\n",
       "    <tr>\n",
       "      <th>29</th>\n",
       "      <td>Aguacate</td>\n",
       "    </tr>\n",
       "    <tr>\n",
       "      <th>30</th>\n",
       "      <td>Aguacates</td>\n",
       "    </tr>\n",
       "    <tr>\n",
       "      <th>31</th>\n",
       "      <td>Piña</td>\n",
       "    </tr>\n",
       "    <tr>\n",
       "      <th>32</th>\n",
       "      <td>Media piña</td>\n",
       "    </tr>\n",
       "    <tr>\n",
       "      <th>33</th>\n",
       "      <td>Guacamole Hacendado</td>\n",
       "    </tr>\n",
       "    <tr>\n",
       "      <th>34</th>\n",
       "      <td>Guacamole Hacendado</td>\n",
       "    </tr>\n",
       "    <tr>\n",
       "      <th>35</th>\n",
       "      <td>Mango</td>\n",
       "    </tr>\n",
       "    <tr>\n",
       "      <th>36</th>\n",
       "      <td>Piña natural a rodajas</td>\n",
       "    </tr>\n",
       "    <tr>\n",
       "      <th>37</th>\n",
       "      <td>Papaya</td>\n",
       "    </tr>\n",
       "    <tr>\n",
       "      <th>38</th>\n",
       "      <td>Media papaya</td>\n",
       "    </tr>\n",
       "    <tr>\n",
       "      <th>39</th>\n",
       "      <td>Chirimoya</td>\n",
       "    </tr>\n",
       "    <tr>\n",
       "      <th>40</th>\n",
       "      <td>Fresón</td>\n",
       "    </tr>\n",
       "    <tr>\n",
       "      <th>41</th>\n",
       "      <td>Frambuesas</td>\n",
       "    </tr>\n",
       "    <tr>\n",
       "      <th>42</th>\n",
       "      <td>Níspero</td>\n",
       "    </tr>\n",
       "    <tr>\n",
       "      <th>43</th>\n",
       "      <td>Moras</td>\n",
       "    </tr>\n",
       "    <tr>\n",
       "      <th>44</th>\n",
       "      <td>Arándanos</td>\n",
       "    </tr>\n",
       "    <tr>\n",
       "      <th>45</th>\n",
       "      <td>Arándanos</td>\n",
       "    </tr>\n",
       "  </tbody>\n",
       "</table>\n",
       "</div>"
      ],
      "text/plain": [
       "                         producto\n",
       "0             Plátano de Canarias\n",
       "1                          Banana\n",
       "2                   Plátano macho\n",
       "3         Uva blanca sin semillas\n",
       "4           Uva roja sin semillas\n",
       "5                  Manzana Golden\n",
       "6                 Manzanas Golden\n",
       "7                Pera Conferencia\n",
       "8               Peras Conferencia\n",
       "9                   Pera Ercolina\n",
       "10           Manzana Granny Smith\n",
       "11                Manzana Evelina\n",
       "12                Manzana Evelina\n",
       "13                   Manzana Envy\n",
       "14                  Manzanas Envy\n",
       "15    1/4 Sandía baja en semillas\n",
       "16  Media sandía baja en semillas\n",
       "17        Sandía baja en semillas\n",
       "18                        Limones\n",
       "19                          Limón\n",
       "20                      Mandarina\n",
       "21                      Mandarina\n",
       "22              Naranja para mesa\n",
       "23                       Naranjas\n",
       "24                       Naranjas\n",
       "25                         Pomelo\n",
       "26                          Limas\n",
       "27                     Kiwi verde\n",
       "28                   Kiwis verdes\n",
       "29                       Aguacate\n",
       "30                      Aguacates\n",
       "31                           Piña\n",
       "32                     Media piña\n",
       "33            Guacamole Hacendado\n",
       "34            Guacamole Hacendado\n",
       "35                          Mango\n",
       "36         Piña natural a rodajas\n",
       "37                         Papaya\n",
       "38                   Media papaya\n",
       "39                      Chirimoya\n",
       "40                         Fresón\n",
       "41                     Frambuesas\n",
       "42                        Níspero\n",
       "43                          Moras\n",
       "44                      Arándanos\n",
       "45                      Arándanos"
      ]
     },
     "execution_count": 19,
     "metadata": {},
     "output_type": "execute_result"
    }
   ],
   "source": [
    "# crear una tabla con la lista \"frutas\"\n",
    "frutas_df = pd.DataFrame(frutas, columns=['producto'])\n",
    "\n",
    "frutas_df"
   ]
  },
  {
   "cell_type": "code",
   "execution_count": 20,
   "metadata": {},
   "outputs": [
    {
     "data": {
      "text/html": [
       "<div>\n",
       "<style scoped>\n",
       "    .dataframe tbody tr th:only-of-type {\n",
       "        vertical-align: middle;\n",
       "    }\n",
       "\n",
       "    .dataframe tbody tr th {\n",
       "        vertical-align: top;\n",
       "    }\n",
       "\n",
       "    .dataframe thead th {\n",
       "        text-align: right;\n",
       "    }\n",
       "</style>\n",
       "<table border=\"1\" class=\"dataframe\">\n",
       "  <thead>\n",
       "    <tr style=\"text-align: right;\">\n",
       "      <th></th>\n",
       "      <th>producto</th>\n",
       "    </tr>\n",
       "  </thead>\n",
       "  <tbody>\n",
       "    <tr>\n",
       "      <th>0</th>\n",
       "      <td>Lechuga iceberg</td>\n",
       "    </tr>\n",
       "    <tr>\n",
       "      <th>1</th>\n",
       "      <td>Ensalada mezcla 4 estaciones</td>\n",
       "    </tr>\n",
       "    <tr>\n",
       "      <th>2</th>\n",
       "      <td>Lechugas corazón romana</td>\n",
       "    </tr>\n",
       "    <tr>\n",
       "      <th>3</th>\n",
       "      <td>Ensalada mezcla brotes tiernos</td>\n",
       "    </tr>\n",
       "    <tr>\n",
       "      <th>4</th>\n",
       "      <td>Canónigos base para ensalada</td>\n",
       "    </tr>\n",
       "    <tr>\n",
       "      <th>5</th>\n",
       "      <td>Lechuga iceberg base para ensalada</td>\n",
       "    </tr>\n",
       "    <tr>\n",
       "      <th>6</th>\n",
       "      <td>Ensalada mezcla gourmet</td>\n",
       "    </tr>\n",
       "    <tr>\n",
       "      <th>7</th>\n",
       "      <td>Cogollos de lechuga</td>\n",
       "    </tr>\n",
       "    <tr>\n",
       "      <th>8</th>\n",
       "      <td>Lechuga corazón romana</td>\n",
       "    </tr>\n",
       "    <tr>\n",
       "      <th>9</th>\n",
       "      <td>Endibias</td>\n",
       "    </tr>\n",
       "    <tr>\n",
       "      <th>10</th>\n",
       "      <td>Ensalada mezcla brotes tiernos maxi</td>\n",
       "    </tr>\n",
       "    <tr>\n",
       "      <th>11</th>\n",
       "      <td>Ensalada mezcla gourmet maxi</td>\n",
       "    </tr>\n",
       "    <tr>\n",
       "      <th>12</th>\n",
       "      <td>Ensalada mezcla tierna</td>\n",
       "    </tr>\n",
       "    <tr>\n",
       "      <th>13</th>\n",
       "      <td>Rúcula base para ensalada</td>\n",
       "    </tr>\n",
       "    <tr>\n",
       "      <th>14</th>\n",
       "      <td>Cogollos corazón de lechuga</td>\n",
       "    </tr>\n",
       "    <tr>\n",
       "      <th>15</th>\n",
       "      <td>Ensalada mezcla primavera</td>\n",
       "    </tr>\n",
       "    <tr>\n",
       "      <th>16</th>\n",
       "      <td>Ensalada mezcla dúo canónigos y rúcula</td>\n",
       "    </tr>\n",
       "    <tr>\n",
       "      <th>17</th>\n",
       "      <td>Ensalada mezcla fresca</td>\n",
       "    </tr>\n",
       "    <tr>\n",
       "      <th>18</th>\n",
       "      <td>Lechuga hoja roble</td>\n",
       "    </tr>\n",
       "    <tr>\n",
       "      <th>19</th>\n",
       "      <td>Escarola rizada base para ensalada</td>\n",
       "    </tr>\n",
       "    <tr>\n",
       "      <th>20</th>\n",
       "      <td>Escarola rizada</td>\n",
       "    </tr>\n",
       "    <tr>\n",
       "      <th>21</th>\n",
       "      <td>Espinaca baby base para ensalada</td>\n",
       "    </tr>\n",
       "    <tr>\n",
       "      <th>22</th>\n",
       "      <td>Lechuga romana cortada</td>\n",
       "    </tr>\n",
       "    <tr>\n",
       "      <th>23</th>\n",
       "      <td>Ensalada César</td>\n",
       "    </tr>\n",
       "    <tr>\n",
       "      <th>24</th>\n",
       "      <td>Ensalada California</td>\n",
       "    </tr>\n",
       "    <tr>\n",
       "      <th>25</th>\n",
       "      <td>Wraps Texas</td>\n",
       "    </tr>\n",
       "    <tr>\n",
       "      <th>26</th>\n",
       "      <td>Ensalada de la casa</td>\n",
       "    </tr>\n",
       "    <tr>\n",
       "      <th>27</th>\n",
       "      <td>Ensalada mil islas</td>\n",
       "    </tr>\n",
       "    <tr>\n",
       "      <th>28</th>\n",
       "      <td>Ensalada ensatún</td>\n",
       "    </tr>\n",
       "    <tr>\n",
       "      <th>29</th>\n",
       "      <td>Ensalada jamón</td>\n",
       "    </tr>\n",
       "    <tr>\n",
       "      <th>30</th>\n",
       "      <td>Ensalada de pasta</td>\n",
       "    </tr>\n",
       "    <tr>\n",
       "      <th>31</th>\n",
       "      <td>Ensalada queso de cabra</td>\n",
       "    </tr>\n",
       "    <tr>\n",
       "      <th>32</th>\n",
       "      <td>Ensalada de pasta Listo para Comer</td>\n",
       "    </tr>\n",
       "  </tbody>\n",
       "</table>\n",
       "</div>"
      ],
      "text/plain": [
       "                                  producto\n",
       "0                          Lechuga iceberg\n",
       "1             Ensalada mezcla 4 estaciones\n",
       "2                  Lechugas corazón romana\n",
       "3           Ensalada mezcla brotes tiernos\n",
       "4             Canónigos base para ensalada\n",
       "5       Lechuga iceberg base para ensalada\n",
       "6                  Ensalada mezcla gourmet\n",
       "7                      Cogollos de lechuga\n",
       "8                   Lechuga corazón romana\n",
       "9                                 Endibias\n",
       "10     Ensalada mezcla brotes tiernos maxi\n",
       "11            Ensalada mezcla gourmet maxi\n",
       "12                  Ensalada mezcla tierna\n",
       "13               Rúcula base para ensalada\n",
       "14             Cogollos corazón de lechuga\n",
       "15               Ensalada mezcla primavera\n",
       "16  Ensalada mezcla dúo canónigos y rúcula\n",
       "17                  Ensalada mezcla fresca\n",
       "18                      Lechuga hoja roble\n",
       "19      Escarola rizada base para ensalada\n",
       "20                         Escarola rizada\n",
       "21        Espinaca baby base para ensalada\n",
       "22                  Lechuga romana cortada\n",
       "23                          Ensalada César\n",
       "24                     Ensalada California\n",
       "25                             Wraps Texas\n",
       "26                     Ensalada de la casa\n",
       "27                      Ensalada mil islas\n",
       "28                        Ensalada ensatún\n",
       "29                          Ensalada jamón\n",
       "30                       Ensalada de pasta\n",
       "31                 Ensalada queso de cabra\n",
       "32      Ensalada de pasta Listo para Comer"
      ]
     },
     "execution_count": 20,
     "metadata": {},
     "output_type": "execute_result"
    }
   ],
   "source": [
    "# crear una tabla con la lista \"ensaladas\"\n",
    "ensaladas_df = pd.DataFrame(ensaladas, columns=['producto'])\n",
    "\n",
    "ensaladas_df"
   ]
  },
  {
   "cell_type": "code",
   "execution_count": 21,
   "metadata": {},
   "outputs": [
    {
     "data": {
      "text/html": [
       "<div>\n",
       "<style scoped>\n",
       "    .dataframe tbody tr th:only-of-type {\n",
       "        vertical-align: middle;\n",
       "    }\n",
       "\n",
       "    .dataframe tbody tr th {\n",
       "        vertical-align: top;\n",
       "    }\n",
       "\n",
       "    .dataframe thead th {\n",
       "        text-align: right;\n",
       "    }\n",
       "</style>\n",
       "<table border=\"1\" class=\"dataframe\">\n",
       "  <thead>\n",
       "    <tr style=\"text-align: right;\">\n",
       "      <th></th>\n",
       "      <th>producto</th>\n",
       "    </tr>\n",
       "  </thead>\n",
       "  <tbody>\n",
       "    <tr>\n",
       "      <th>0</th>\n",
       "      <td>Patata</td>\n",
       "    </tr>\n",
       "    <tr>\n",
       "      <th>1</th>\n",
       "      <td>Patatas</td>\n",
       "    </tr>\n",
       "    <tr>\n",
       "      <th>2</th>\n",
       "      <td>Patatas rojas</td>\n",
       "    </tr>\n",
       "    <tr>\n",
       "      <th>3</th>\n",
       "      <td>Patatas</td>\n",
       "    </tr>\n",
       "    <tr>\n",
       "      <th>4</th>\n",
       "      <td>Patatas guarnición</td>\n",
       "    </tr>\n",
       "    <tr>\n",
       "      <th>...</th>\n",
       "      <td>...</td>\n",
       "    </tr>\n",
       "    <tr>\n",
       "      <th>93</th>\n",
       "      <td>Mix de verduras paisana para micro</td>\n",
       "    </tr>\n",
       "    <tr>\n",
       "      <th>94</th>\n",
       "      <td>Sopa juliana para micro</td>\n",
       "    </tr>\n",
       "    <tr>\n",
       "      <th>95</th>\n",
       "      <td>Patata para micro</td>\n",
       "    </tr>\n",
       "    <tr>\n",
       "      <th>96</th>\n",
       "      <td>Batata para micro</td>\n",
       "    </tr>\n",
       "    <tr>\n",
       "      <th>97</th>\n",
       "      <td>Mix de verduras jardinera para micro</td>\n",
       "    </tr>\n",
       "  </tbody>\n",
       "</table>\n",
       "<p>98 rows × 1 columns</p>\n",
       "</div>"
      ],
      "text/plain": [
       "                                producto\n",
       "0                                 Patata\n",
       "1                                Patatas\n",
       "2                          Patatas rojas\n",
       "3                                Patatas\n",
       "4                     Patatas guarnición\n",
       "..                                   ...\n",
       "93    Mix de verduras paisana para micro\n",
       "94               Sopa juliana para micro\n",
       "95                     Patata para micro\n",
       "96                     Batata para micro\n",
       "97  Mix de verduras jardinera para micro\n",
       "\n",
       "[98 rows x 1 columns]"
      ]
     },
     "execution_count": 21,
     "metadata": {},
     "output_type": "execute_result"
    }
   ],
   "source": [
    "# crear una tabla con la lista \"verduras\"\n",
    "verduras_df = pd.DataFrame(verduras, columns=['producto'])\n",
    "\n",
    "verduras_df"
   ]
  },
  {
   "cell_type": "code",
   "execution_count": 22,
   "metadata": {},
   "outputs": [],
   "source": [
    "# exportamos las tablas resultantes a \".CSV\"\n",
    "frutas_df.to_csv('../data/frutas.csv', index=False)\n",
    "ensaladas_df.to_csv('../data/ensaladas.csv', index=False)\n",
    "verduras_df.to_csv('../data/verduras.csv', index=False)"
   ]
  },
  {
   "attachments": {},
   "cell_type": "markdown",
   "metadata": {},
   "source": [
    "### **Subcategorías.**"
   ]
  },
  {
   "cell_type": "code",
   "execution_count": 23,
   "metadata": {},
   "outputs": [
    {
     "data": {
      "text/html": [
       "<div>\n",
       "<style scoped>\n",
       "    .dataframe tbody tr th:only-of-type {\n",
       "        vertical-align: middle;\n",
       "    }\n",
       "\n",
       "    .dataframe tbody tr th {\n",
       "        vertical-align: top;\n",
       "    }\n",
       "\n",
       "    .dataframe thead th {\n",
       "        text-align: right;\n",
       "    }\n",
       "</style>\n",
       "<table border=\"1\" class=\"dataframe\">\n",
       "  <thead>\n",
       "    <tr style=\"text-align: right;\">\n",
       "      <th></th>\n",
       "      <th>subcategoria</th>\n",
       "    </tr>\n",
       "  </thead>\n",
       "  <tbody>\n",
       "    <tr>\n",
       "      <th>0</th>\n",
       "      <td>Plátano y uva</td>\n",
       "    </tr>\n",
       "    <tr>\n",
       "      <th>1</th>\n",
       "      <td>Manzana y pera</td>\n",
       "    </tr>\n",
       "    <tr>\n",
       "      <th>2</th>\n",
       "      <td>Melón y sandía</td>\n",
       "    </tr>\n",
       "    <tr>\n",
       "      <th>3</th>\n",
       "      <td>Cítricos</td>\n",
       "    </tr>\n",
       "    <tr>\n",
       "      <th>4</th>\n",
       "      <td>Fruta tropical</td>\n",
       "    </tr>\n",
       "    <tr>\n",
       "      <th>5</th>\n",
       "      <td>Otras frutas</td>\n",
       "    </tr>\n",
       "  </tbody>\n",
       "</table>\n",
       "</div>"
      ],
      "text/plain": [
       "     subcategoria\n",
       "0   Plátano y uva\n",
       "1  Manzana y pera\n",
       "2  Melón y sandía\n",
       "3        Cítricos\n",
       "4  Fruta tropical\n",
       "5    Otras frutas"
      ]
     },
     "execution_count": 23,
     "metadata": {},
     "output_type": "execute_result"
    }
   ],
   "source": [
    "# crear una tabla con la lista \"sub_fruta\"\n",
    "sub_fruta_df = pd.DataFrame(sub_fruta, columns=['subcategoria'])\n",
    "\n",
    "sub_fruta_df"
   ]
  },
  {
   "cell_type": "code",
   "execution_count": 24,
   "metadata": {},
   "outputs": [
    {
     "data": {
      "text/html": [
       "<div>\n",
       "<style scoped>\n",
       "    .dataframe tbody tr th:only-of-type {\n",
       "        vertical-align: middle;\n",
       "    }\n",
       "\n",
       "    .dataframe tbody tr th {\n",
       "        vertical-align: top;\n",
       "    }\n",
       "\n",
       "    .dataframe thead th {\n",
       "        text-align: right;\n",
       "    }\n",
       "</style>\n",
       "<table border=\"1\" class=\"dataframe\">\n",
       "  <thead>\n",
       "    <tr style=\"text-align: right;\">\n",
       "      <th></th>\n",
       "      <th>subcategoria</th>\n",
       "    </tr>\n",
       "  </thead>\n",
       "  <tbody>\n",
       "    <tr>\n",
       "      <th>0</th>\n",
       "      <td>Lechuga</td>\n",
       "    </tr>\n",
       "    <tr>\n",
       "      <th>1</th>\n",
       "      <td>Ensalada preparada</td>\n",
       "    </tr>\n",
       "  </tbody>\n",
       "</table>\n",
       "</div>"
      ],
      "text/plain": [
       "         subcategoria\n",
       "0             Lechuga\n",
       "1  Ensalada preparada"
      ]
     },
     "execution_count": 24,
     "metadata": {},
     "output_type": "execute_result"
    }
   ],
   "source": [
    "# crear una tabla con la lista \"sub_ensalada\"\n",
    "sub_ensalada_df = pd.DataFrame(sub_ensalada, columns=['subcategoria'])\n",
    "\n",
    "sub_ensalada_df"
   ]
  },
  {
   "cell_type": "code",
   "execution_count": 25,
   "metadata": {},
   "outputs": [
    {
     "data": {
      "text/html": [
       "<div>\n",
       "<style scoped>\n",
       "    .dataframe tbody tr th:only-of-type {\n",
       "        vertical-align: middle;\n",
       "    }\n",
       "\n",
       "    .dataframe tbody tr th {\n",
       "        vertical-align: top;\n",
       "    }\n",
       "\n",
       "    .dataframe thead th {\n",
       "        text-align: right;\n",
       "    }\n",
       "</style>\n",
       "<table border=\"1\" class=\"dataframe\">\n",
       "  <thead>\n",
       "    <tr style=\"text-align: right;\">\n",
       "      <th></th>\n",
       "      <th>subcategoria</th>\n",
       "    </tr>\n",
       "  </thead>\n",
       "  <tbody>\n",
       "    <tr>\n",
       "      <th>0</th>\n",
       "      <td>Patata</td>\n",
       "    </tr>\n",
       "    <tr>\n",
       "      <th>1</th>\n",
       "      <td>Cebolla y ajo</td>\n",
       "    </tr>\n",
       "    <tr>\n",
       "      <th>2</th>\n",
       "      <td>Tomate</td>\n",
       "    </tr>\n",
       "    <tr>\n",
       "      <th>3</th>\n",
       "      <td>Pepino y zanahoria</td>\n",
       "    </tr>\n",
       "    <tr>\n",
       "      <th>4</th>\n",
       "      <td>Calabacín y pimiento</td>\n",
       "    </tr>\n",
       "    <tr>\n",
       "      <th>5</th>\n",
       "      <td>Repollo y col</td>\n",
       "    </tr>\n",
       "    <tr>\n",
       "      <th>6</th>\n",
       "      <td>Setas y champiñones</td>\n",
       "    </tr>\n",
       "    <tr>\n",
       "      <th>7</th>\n",
       "      <td>Hierbas aromáticas</td>\n",
       "    </tr>\n",
       "    <tr>\n",
       "      <th>8</th>\n",
       "      <td>Otras verduras y hortalizas</td>\n",
       "    </tr>\n",
       "    <tr>\n",
       "      <th>9</th>\n",
       "      <td>Verduras al vapor</td>\n",
       "    </tr>\n",
       "  </tbody>\n",
       "</table>\n",
       "</div>"
      ],
      "text/plain": [
       "                  subcategoria\n",
       "0                       Patata\n",
       "1                Cebolla y ajo\n",
       "2                       Tomate\n",
       "3           Pepino y zanahoria\n",
       "4         Calabacín y pimiento\n",
       "5                Repollo y col\n",
       "6          Setas y champiñones\n",
       "7           Hierbas aromáticas\n",
       "8  Otras verduras y hortalizas\n",
       "9            Verduras al vapor"
      ]
     },
     "execution_count": 25,
     "metadata": {},
     "output_type": "execute_result"
    }
   ],
   "source": [
    "# crear una tabla con la lista \"sub_verdura\"\n",
    "sub_verdura_df = pd.DataFrame(sub_verdura, columns=['subcategoria'])\n",
    "\n",
    "sub_verdura_df"
   ]
  },
  {
   "cell_type": "code",
   "execution_count": 26,
   "metadata": {},
   "outputs": [],
   "source": [
    "# exportamos las tablas resultantes a \".CSV\"\n",
    "sub_fruta_df.to_csv('../data/sub_frutas.csv', index=False)\n",
    "sub_ensalada_df.to_csv('../data/sub_ensaladas.csv', index=False)\n",
    "sub_verdura_df.to_csv('../data/sub_verduras.csv', index=False)"
   ]
  },
  {
   "attachments": {},
   "cell_type": "markdown",
   "metadata": {},
   "source": [
    "### **Categorías.**"
   ]
  },
  {
   "cell_type": "code",
   "execution_count": 29,
   "metadata": {},
   "outputs": [
    {
     "data": {
      "text/html": [
       "<div>\n",
       "<style scoped>\n",
       "    .dataframe tbody tr th:only-of-type {\n",
       "        vertical-align: middle;\n",
       "    }\n",
       "\n",
       "    .dataframe tbody tr th {\n",
       "        vertical-align: top;\n",
       "    }\n",
       "\n",
       "    .dataframe thead th {\n",
       "        text-align: right;\n",
       "    }\n",
       "</style>\n",
       "<table border=\"1\" class=\"dataframe\">\n",
       "  <thead>\n",
       "    <tr style=\"text-align: right;\">\n",
       "      <th></th>\n",
       "      <th>categoria</th>\n",
       "    </tr>\n",
       "  </thead>\n",
       "  <tbody>\n",
       "    <tr>\n",
       "      <th>0</th>\n",
       "      <td>Fruta</td>\n",
       "    </tr>\n",
       "  </tbody>\n",
       "</table>\n",
       "</div>"
      ],
      "text/plain": [
       "  categoria\n",
       "0     Fruta"
      ]
     },
     "execution_count": 29,
     "metadata": {},
     "output_type": "execute_result"
    }
   ],
   "source": [
    "# crear una tabla con la categoria \"cat_fruta\"\n",
    "categoria_fruta = [cat_fruta]\n",
    "cat_fruta_df = pd.DataFrame(categoria_fruta, columns=['categoria'])\n",
    "\n",
    "cat_fruta_df"
   ]
  },
  {
   "cell_type": "code",
   "execution_count": 30,
   "metadata": {},
   "outputs": [
    {
     "data": {
      "text/html": [
       "<div>\n",
       "<style scoped>\n",
       "    .dataframe tbody tr th:only-of-type {\n",
       "        vertical-align: middle;\n",
       "    }\n",
       "\n",
       "    .dataframe tbody tr th {\n",
       "        vertical-align: top;\n",
       "    }\n",
       "\n",
       "    .dataframe thead th {\n",
       "        text-align: right;\n",
       "    }\n",
       "</style>\n",
       "<table border=\"1\" class=\"dataframe\">\n",
       "  <thead>\n",
       "    <tr style=\"text-align: right;\">\n",
       "      <th></th>\n",
       "      <th>categoria</th>\n",
       "    </tr>\n",
       "  </thead>\n",
       "  <tbody>\n",
       "    <tr>\n",
       "      <th>0</th>\n",
       "      <td>Lechuga y ensalada preparada</td>\n",
       "    </tr>\n",
       "  </tbody>\n",
       "</table>\n",
       "</div>"
      ],
      "text/plain": [
       "                      categoria\n",
       "0  Lechuga y ensalada preparada"
      ]
     },
     "execution_count": 30,
     "metadata": {},
     "output_type": "execute_result"
    }
   ],
   "source": [
    "# crear una tabla con la categoria \"cat_ensalada\"\n",
    "categoria_ensalada = [cat_ensalada]\n",
    "cat_ensalada_df = pd.DataFrame(categoria_ensalada, columns=['categoria'])\n",
    "\n",
    "cat_ensalada_df"
   ]
  },
  {
   "cell_type": "code",
   "execution_count": 31,
   "metadata": {},
   "outputs": [
    {
     "data": {
      "text/html": [
       "<div>\n",
       "<style scoped>\n",
       "    .dataframe tbody tr th:only-of-type {\n",
       "        vertical-align: middle;\n",
       "    }\n",
       "\n",
       "    .dataframe tbody tr th {\n",
       "        vertical-align: top;\n",
       "    }\n",
       "\n",
       "    .dataframe thead th {\n",
       "        text-align: right;\n",
       "    }\n",
       "</style>\n",
       "<table border=\"1\" class=\"dataframe\">\n",
       "  <thead>\n",
       "    <tr style=\"text-align: right;\">\n",
       "      <th></th>\n",
       "      <th>categoria</th>\n",
       "    </tr>\n",
       "  </thead>\n",
       "  <tbody>\n",
       "    <tr>\n",
       "      <th>0</th>\n",
       "      <td>Verdura</td>\n",
       "    </tr>\n",
       "  </tbody>\n",
       "</table>\n",
       "</div>"
      ],
      "text/plain": [
       "  categoria\n",
       "0   Verdura"
      ]
     },
     "execution_count": 31,
     "metadata": {},
     "output_type": "execute_result"
    }
   ],
   "source": [
    "# crear una tabla con la categoria \"cat_verdura\"\n",
    "categoria_verdura = [cat_verdura]\n",
    "cat_verdura_df = pd.DataFrame(categoria_verdura, columns=['categoria'])\n",
    "\n",
    "cat_verdura_df"
   ]
  },
  {
   "cell_type": "code",
   "execution_count": 32,
   "metadata": {},
   "outputs": [],
   "source": [
    "# exportamos las tablas resultantes a \".CSV\"\n",
    "cat_fruta_df.to_csv('../data/cat_frutas.csv', index=False)\n",
    "cat_ensalada_df.to_csv('../data/cat_ensaladas.csv', index=False)\n",
    "cat_verdura_df.to_csv('../data/cat_verduras.csv', index=False)"
   ]
  }
 ],
 "metadata": {
  "kernelspec": {
   "display_name": "base",
   "language": "python",
   "name": "python3"
  },
  "language_info": {
   "codemirror_mode": {
    "name": "ipython",
    "version": 3
   },
   "file_extension": ".py",
   "mimetype": "text/x-python",
   "name": "python",
   "nbconvert_exporter": "python",
   "pygments_lexer": "ipython3",
   "version": "3.9.13"
  },
  "orig_nbformat": 4
 },
 "nbformat": 4,
 "nbformat_minor": 2
}
