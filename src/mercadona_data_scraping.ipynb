{
 "cells": [
  {
   "attachments": {},
   "cell_type": "markdown",
   "metadata": {},
   "source": [
    "# **SCRAPING.**"
   ]
  },
  {
   "attachments": {},
   "cell_type": "markdown",
   "metadata": {},
   "source": [
    "## **Importación de librerías.**"
   ]
  },
  {
   "cell_type": "code",
   "execution_count": 1,
   "metadata": {},
   "outputs": [],
   "source": [
    "import time\n",
    "\n",
    "import warnings\n",
    "warnings.filterwarnings('ignore')"
   ]
  },
  {
   "attachments": {},
   "cell_type": "markdown",
   "metadata": {},
   "source": [
    "### **Pandas.**"
   ]
  },
  {
   "cell_type": "code",
   "execution_count": 2,
   "metadata": {},
   "outputs": [],
   "source": [
    "import pandas as pd"
   ]
  },
  {
   "attachments": {},
   "cell_type": "markdown",
   "metadata": {},
   "source": [
    "### **BeautifulSoup.**"
   ]
  },
  {
   "cell_type": "code",
   "execution_count": 3,
   "metadata": {},
   "outputs": [],
   "source": [
    "import requests as req \n",
    "from bs4 import BeautifulSoup as bs"
   ]
  },
  {
   "attachments": {},
   "cell_type": "markdown",
   "metadata": {},
   "source": [
    "### **Selenium.**"
   ]
  },
  {
   "cell_type": "code",
   "execution_count": 4,
   "metadata": {},
   "outputs": [],
   "source": [
    "from selenium import webdriver\n",
    "from selenium.webdriver.chrome.options import Options\n",
    "\n",
    "# sustituye al archivo\n",
    "from webdriver_manager.chrome import ChromeDriverManager\n",
    "\n",
    "# para buscar por tag, clase, id...\n",
    "from selenium.webdriver.common.by import By\n",
    "\n",
    "# para pulsar teclas\n",
    "from selenium.webdriver.common.keys import Keys\n",
    "\n",
    "# para esperar a que cargue\n",
    "#from selenium.webdriver.support.ui import WebDriverWait\n",
    "\n",
    "# condiciones esperadas\n",
    "#from selenium.webdriver.support import expected_conditions as EC"
   ]
  },
  {
   "cell_type": "code",
   "execution_count": 5,
   "metadata": {},
   "outputs": [
    {
     "name": "stderr",
     "output_type": "stream",
     "text": [
      "[WDM] - Downloading: 100%|██████████| 8.81M/8.81M [00:00<00:00, 14.9MB/s]\n"
     ]
    }
   ],
   "source": [
    "# instala driver de chrome\n",
    "PATH = ChromeDriverManager().install()\n",
    "\n",
    "# driver configuration\n",
    "opciones = Options()\n",
    "\n",
    "# quita la bandera de ser robot\n",
    "opciones.add_experimental_option('excludeSwitches', ['enable-automation'])\n",
    "opciones.add_experimental_option('useAutomationExtension', False)\n",
    "\n",
    "# si True, no aperece la ventana (headless=no visible)\n",
    "opciones.headless = True\n",
    "\n",
    "# comienza maximizado\n",
    "opciones.add_argument('--start-maximized')\n",
    "\n",
    "# mantiene las cookies\n",
    "#opciones.add_argument('user-data-dir=selenium')\n",
    "\n",
    "# adblocker\n",
    "#opciones.add_extension('driver_folder/adblock.crx')\n",
    "\n",
    "# modo incognito\n",
    "opciones.add_argument('--incognito')\n",
    "\n",
    "# guardar las cookies\n",
    "#opciones.add_argument('user-data-dir=cookies')    # mantiene las coockies"
   ]
  },
  {
   "attachments": {},
   "cell_type": "markdown",
   "metadata": {},
   "source": [
    "## **Proceso de scraping.**"
   ]
  },
  {
   "attachments": {},
   "cell_type": "markdown",
   "metadata": {},
   "source": [
    "### **Acceso a la tienda.**"
   ]
  },
  {
   "cell_type": "code",
   "execution_count": 6,
   "metadata": {},
   "outputs": [],
   "source": [
    "url = 'https://www.mercadona.es'\n",
    "driver = webdriver.Chrome(PATH, options=opciones)\n",
    "driver.get(url)\n",
    "\n",
    "# acepta cookies\n",
    "driver.find_element(By.XPATH, '//*[@id=\"root\"]/div/div/div/button[2]').click()\n",
    "time.sleep(3)\n",
    "\n",
    "# escribo texto en \"codigo postal\"\n",
    "cp = driver.find_element(By.XPATH, '//*[@id=\"root\"]/header/div/div/form/div/input')\n",
    "cp.send_keys('28045')\n",
    "\n",
    "# entrar a la tienda\n",
    "driver.find_element(By.XPATH, '//*[@id=\"root\"]/header/div/div/form/input').click()\n",
    "time.sleep(3)\n",
    "\n",
    "# entrar a \"categorias\"\n",
    "driver.find_element(By.XPATH, '//*[@id=\"root\"]/header/div[1]/nav/a[1]').click()\n",
    "time.sleep(3)\n",
    "\n",
    "# entrar a \"fruta y verdura\"\n",
    "driver.find_element(By.XPATH, '//*[@id=\"root\"]/div[2]/div[1]/ul/li[17]/div/button/span/label').click()\n",
    "time.sleep(3)"
   ]
  },
  {
   "attachments": {},
   "cell_type": "markdown",
   "metadata": {},
   "source": [
    "### **Fruta scraping.**"
   ]
  },
  {
   "cell_type": "code",
   "execution_count": 7,
   "metadata": {},
   "outputs": [
    {
     "data": {
      "text/plain": [
       "['Plátano de Canarias',\n",
       " 'Banana',\n",
       " 'Plátano macho',\n",
       " 'Uva blanca sin semillas',\n",
       " 'Uva roja sin semillas',\n",
       " 'Manzana Golden',\n",
       " 'Manzanas Golden',\n",
       " 'Pera Conferencia',\n",
       " 'Peras Conferencia',\n",
       " 'Pera Ercolina',\n",
       " 'Manzana Granny Smith',\n",
       " 'Manzana Evelina',\n",
       " 'Manzana Evelina',\n",
       " 'Manzana Envy',\n",
       " 'Manzanas Envy',\n",
       " '1/4 Sandía baja en semillas',\n",
       " 'Media sandía baja en semillas',\n",
       " 'Sandía baja en semillas',\n",
       " 'Limones',\n",
       " 'Limón',\n",
       " 'Mandarina',\n",
       " 'Mandarina',\n",
       " 'Naranja para mesa',\n",
       " 'Naranjas',\n",
       " 'Naranjas',\n",
       " 'Pomelo',\n",
       " 'Limas',\n",
       " 'Kiwi verde',\n",
       " 'Kiwis verdes',\n",
       " 'Aguacate',\n",
       " 'Aguacates',\n",
       " 'Piña',\n",
       " 'Media piña',\n",
       " 'Guacamole Hacendado',\n",
       " 'Guacamole Hacendado',\n",
       " 'Mango',\n",
       " 'Piña natural a rodajas',\n",
       " 'Papaya',\n",
       " 'Media papaya',\n",
       " 'Chirimoya',\n",
       " 'Fresón',\n",
       " 'Frambuesas',\n",
       " 'Níspero',\n",
       " 'Moras',\n",
       " 'Arándanos',\n",
       " 'Arándanos']"
      ]
     },
     "execution_count": 7,
     "metadata": {},
     "output_type": "execute_result"
    }
   ],
   "source": [
    "# extraemos nombres de frutas\n",
    "list_frutas = driver.find_elements(By.CSS_SELECTOR, 'h4.subhead1-r.product-cell__description-name[data-test=\"product-cell-name\"]')\n",
    "frutas = [fruta.text for fruta in list_frutas]\n",
    "\n",
    "frutas"
   ]
  },
  {
   "cell_type": "code",
   "execution_count": 8,
   "metadata": {},
   "outputs": [
    {
     "data": {
      "text/plain": [
       "['Plátano y uva',\n",
       " 'Manzana y pera',\n",
       " 'Melón y sandía',\n",
       " 'Cítricos',\n",
       " 'Fruta tropical',\n",
       " 'Otras frutas']"
      ]
     },
     "execution_count": 8,
     "metadata": {},
     "output_type": "execute_result"
    }
   ],
   "source": [
    "# extraemos nombres de subcategorias\n",
    "list_sub_fruta = driver.find_elements(By.CSS_SELECTOR, 'h2.section__header.headline1-b')\n",
    "sub_fruta = [sub.text for sub in list_sub_fruta]\n",
    "\n",
    "sub_fruta"
   ]
  },
  {
   "cell_type": "code",
   "execution_count": 9,
   "metadata": {},
   "outputs": [
    {
     "data": {
      "text/plain": [
       "'Fruta'"
      ]
     },
     "execution_count": 9,
     "metadata": {},
     "output_type": "execute_result"
    }
   ],
   "source": [
    "# extraemos nombre de categoria\n",
    "cat_fruta = driver.find_element(By.XPATH, '//h1[@id=\"content\" and contains(@class, \"category-detail__title\")]').text\n",
    "\n",
    "cat_fruta"
   ]
  },
  {
   "attachments": {},
   "cell_type": "markdown",
   "metadata": {},
   "source": [
    "### **Cambio de categoría.**"
   ]
  },
  {
   "cell_type": "code",
   "execution_count": 10,
   "metadata": {},
   "outputs": [],
   "source": [
    "driver.find_element(By.XPATH, '//*[@id=\"root\"]/div[2]/div[1]/ul/li[17]/div/ul/li[2]/button').click()\n",
    "time.sleep(3)"
   ]
  },
  {
   "attachments": {},
   "cell_type": "markdown",
   "metadata": {},
   "source": [
    "### **Ensaladas scraping.**"
   ]
  },
  {
   "cell_type": "code",
   "execution_count": 11,
   "metadata": {},
   "outputs": [
    {
     "data": {
      "text/plain": [
       "['Lechuga iceberg',\n",
       " 'Ensalada mezcla 4 estaciones',\n",
       " 'Lechugas corazón romana',\n",
       " 'Ensalada mezcla brotes tiernos',\n",
       " 'Canónigos base para ensalada',\n",
       " 'Lechuga iceberg base para ensalada',\n",
       " 'Ensalada mezcla gourmet',\n",
       " 'Cogollos de lechuga',\n",
       " 'Lechuga corazón romana',\n",
       " 'Endibias',\n",
       " 'Ensalada mezcla brotes tiernos maxi',\n",
       " 'Ensalada mezcla gourmet maxi',\n",
       " 'Ensalada mezcla tierna',\n",
       " 'Rúcula base para ensalada',\n",
       " 'Cogollos corazón de lechuga',\n",
       " 'Ensalada mezcla primavera',\n",
       " 'Ensalada mezcla dúo canónigos y rúcula',\n",
       " 'Ensalada mezcla fresca',\n",
       " 'Lechuga hoja roble',\n",
       " 'Escarola rizada base para ensalada',\n",
       " 'Escarola rizada',\n",
       " 'Espinaca baby base para ensalada',\n",
       " 'Lechuga romana cortada',\n",
       " 'Ensalada César',\n",
       " 'Ensalada California',\n",
       " 'Wraps Texas',\n",
       " 'Ensalada de la casa',\n",
       " 'Ensalada mil islas',\n",
       " 'Ensalada ensatún',\n",
       " 'Ensalada jamón',\n",
       " 'Ensalada de pasta',\n",
       " 'Ensalada queso de cabra',\n",
       " 'Ensalada de pasta Listo para Comer']"
      ]
     },
     "execution_count": 11,
     "metadata": {},
     "output_type": "execute_result"
    }
   ],
   "source": [
    "# extraemos nombres de ensaladas\n",
    "list_ensaladas = driver.find_elements(By.CSS_SELECTOR, 'h4.subhead1-r.product-cell__description-name[data-test=\"product-cell-name\"]')\n",
    "ensaladas = [ensalada.text for ensalada in list_ensaladas]\n",
    "\n",
    "ensaladas"
   ]
  },
  {
   "cell_type": "code",
   "execution_count": 12,
   "metadata": {},
   "outputs": [
    {
     "data": {
      "text/plain": [
       "['Lechuga', 'Ensalada preparada']"
      ]
     },
     "execution_count": 12,
     "metadata": {},
     "output_type": "execute_result"
    }
   ],
   "source": [
    "# extraemos nombres de subcategorias\n",
    "list_sub_ensalada = driver.find_elements(By.CSS_SELECTOR, 'h2.section__header.headline1-b')\n",
    "sub_ensalada = [sub.text for sub in list_sub_ensalada]\n",
    "\n",
    "sub_ensalada"
   ]
  },
  {
   "cell_type": "code",
   "execution_count": 13,
   "metadata": {},
   "outputs": [
    {
     "data": {
      "text/plain": [
       "'Lechuga y ensalada preparada'"
      ]
     },
     "execution_count": 13,
     "metadata": {},
     "output_type": "execute_result"
    }
   ],
   "source": [
    "# extraemos nombre de categoria\n",
    "cat_ensalada = driver.find_element(By.XPATH, '//h1[@id=\"content\" and contains(@class, \"category-detail__title\")]').text\n",
    "\n",
    "cat_ensalada"
   ]
  },
  {
   "attachments": {},
   "cell_type": "markdown",
   "metadata": {},
   "source": [
    "### **Cambio de categoría.**"
   ]
  },
  {
   "cell_type": "code",
   "execution_count": 14,
   "metadata": {},
   "outputs": [],
   "source": [
    "driver.find_element(By.XPATH, '//*[@id=\"root\"]/div[2]/div[1]/ul/li[17]/div/ul/li[3]/button').click()\n",
    "time.sleep(3)"
   ]
  },
  {
   "attachments": {},
   "cell_type": "markdown",
   "metadata": {},
   "source": [
    "### **Verduras scraping.**"
   ]
  },
  {
   "cell_type": "code",
   "execution_count": 15,
   "metadata": {},
   "outputs": [
    {
     "data": {
      "text/plain": [
       "['Patata',\n",
       " 'Patatas',\n",
       " 'Patatas rojas',\n",
       " 'Patatas',\n",
       " 'Patatas guarnición',\n",
       " 'Batata',\n",
       " 'Patatas especial para freir',\n",
       " 'Cebollas tiernas',\n",
       " 'Cebollas',\n",
       " 'Cebollas',\n",
       " 'Ajos morados',\n",
       " 'Cebollas dulces',\n",
       " 'Ajo tierno',\n",
       " 'Ajos morados',\n",
       " 'Cebollas rojas',\n",
       " 'Yuca',\n",
       " 'Ajo negro dientes pelados',\n",
       " 'Picada de ajo y Perejil',\n",
       " 'Tomate ensalada',\n",
       " 'Tomate canario',\n",
       " 'Tomate pera',\n",
       " 'Tomates pera',\n",
       " 'Tomates cherry pera kumato',\n",
       " 'Tomates cherry',\n",
       " 'Tomates cherry en rama Dulcita',\n",
       " 'Tomates kumato',\n",
       " 'Tomates',\n",
       " 'Tomate kumato negro',\n",
       " 'Tomate rallado',\n",
       " 'Rama de Tomates',\n",
       " 'Tomate rosa',\n",
       " 'Tomate ensalada',\n",
       " 'Zanahorias',\n",
       " 'Pepino',\n",
       " 'Pepino holandés',\n",
       " 'Zanahorias',\n",
       " 'Pepinos',\n",
       " 'Palitos de zanahoria',\n",
       " 'Zanahoria rallada base para ensalada',\n",
       " 'Pimiento rojo',\n",
       " 'Calabacín verde',\n",
       " 'Pimiento verde freír',\n",
       " 'Calabacín blanco',\n",
       " 'Pimiento verde',\n",
       " 'Pimientos tricolor rojo, amarillo y verde',\n",
       " 'Pimientos semipicantes',\n",
       " 'Pimientos rojos picantes',\n",
       " 'Coliflor',\n",
       " 'Repollo liso',\n",
       " 'Medio repollo liso',\n",
       " 'Repollo rizado',\n",
       " 'Medio repollo rizado',\n",
       " 'Col lombarda',\n",
       " 'Media col lombarda',\n",
       " 'Champiñón pequeño',\n",
       " 'Champiñón laminado limpio',\n",
       " 'Seta',\n",
       " 'Champiñón grande',\n",
       " 'Seta laminada',\n",
       " 'Champiñón Portobello',\n",
       " 'Setas al plato con perejil',\n",
       " 'Salteado de setas laminadas',\n",
       " 'Seta shiitake',\n",
       " 'Perejil troceado',\n",
       " 'Jengibre',\n",
       " 'Cilantro',\n",
       " 'Albahaca',\n",
       " 'Hierbabuena',\n",
       " 'Cebollino',\n",
       " 'Espinacas cortadas',\n",
       " 'Brócoli',\n",
       " 'Berenjena',\n",
       " 'Judía verde plana',\n",
       " 'Judía verde plana',\n",
       " 'Acelgas cortadas',\n",
       " 'Puerros',\n",
       " 'Alcachofa',\n",
       " 'Judía verde redonda',\n",
       " 'Calabaza cacahuete cortada a trozos',\n",
       " 'Apio verde',\n",
       " 'Preparado de verdura para cocido',\n",
       " 'Espárrago verde fino',\n",
       " 'Rabanitos',\n",
       " 'Remolacha cocida y pelada',\n",
       " 'Acelgas',\n",
       " 'Maíz dulce en mazorca cocido',\n",
       " 'Calabaza cacahuete',\n",
       " 'Media calabaza cacahuete',\n",
       " 'Bimi',\n",
       " 'Espárrago verde grueso',\n",
       " 'Maíz dulce en mazorca',\n",
       " '3 Vegetales para micro',\n",
       " 'Floretas de brócoli para micro',\n",
       " 'Mix de verduras paisana para micro',\n",
       " 'Sopa juliana para micro',\n",
       " 'Patata para micro',\n",
       " 'Batata para micro',\n",
       " 'Mix de verduras jardinera para micro']"
      ]
     },
     "execution_count": 15,
     "metadata": {},
     "output_type": "execute_result"
    }
   ],
   "source": [
    "# extraemos nombres de verduras\n",
    "list_verduras = driver.find_elements(By.CSS_SELECTOR, 'h4.subhead1-r.product-cell__description-name[data-test=\"product-cell-name\"]')\n",
    "verduras = [verdura.text for verdura in list_verduras]\n",
    "\n",
    "verduras"
   ]
  },
  {
   "cell_type": "code",
   "execution_count": 16,
   "metadata": {},
   "outputs": [
    {
     "data": {
      "text/plain": [
       "['Patata',\n",
       " 'Cebolla y ajo',\n",
       " 'Tomate',\n",
       " 'Pepino y zanahoria',\n",
       " 'Calabacín y pimiento',\n",
       " 'Repollo y col',\n",
       " 'Setas y champiñones',\n",
       " 'Hierbas aromáticas',\n",
       " 'Otras verduras y hortalizas',\n",
       " 'Verduras al vapor']"
      ]
     },
     "execution_count": 16,
     "metadata": {},
     "output_type": "execute_result"
    }
   ],
   "source": [
    "# extraemos nombres de subcategorias\n",
    "list_sub_verdura = driver.find_elements(By.CSS_SELECTOR, 'h2.section__header.headline1-b')\n",
    "sub_verdura = [sub.text for sub in list_sub_verdura]\n",
    "\n",
    "sub_verdura"
   ]
  },
  {
   "cell_type": "code",
   "execution_count": 17,
   "metadata": {},
   "outputs": [
    {
     "data": {
      "text/plain": [
       "'Verdura'"
      ]
     },
     "execution_count": 17,
     "metadata": {},
     "output_type": "execute_result"
    }
   ],
   "source": [
    "# extraemos nombre de categoria\n",
    "cat_verdura = driver.find_element(By.XPATH, '//h1[@id=\"content\" and contains(@class, \"category-detail__title\")]').text\n",
    "\n",
    "cat_verdura"
   ]
  },
  {
   "attachments": {},
   "cell_type": "markdown",
   "metadata": {},
   "source": [
    "### **Cierre del driver.**"
   ]
  },
  {
   "cell_type": "code",
   "execution_count": 18,
   "metadata": {},
   "outputs": [],
   "source": [
    "#driver.quit()"
   ]
  },
  {
   "attachments": {},
   "cell_type": "markdown",
   "metadata": {},
   "source": [
    "## **Creación y exportación de tablas.**"
   ]
  },
  {
   "attachments": {},
   "cell_type": "markdown",
   "metadata": {},
   "source": [
    "### **Productos.**"
   ]
  },
  {
   "cell_type": "code",
   "execution_count": null,
   "metadata": {},
   "outputs": [],
   "source": [
    "# crear un DataFrame con cada una de las listas de los productos\n"
   ]
  },
  {
   "cell_type": "code",
   "execution_count": null,
   "metadata": {},
   "outputs": [],
   "source": [
    "# crear una lista conjunta de todos los productos\n",
    "list_prod = frutas + ensaladas + verduras\n",
    "\n",
    "# crear un diccionario con nombres de producto\n",
    "prod_dic = {'producto' : list_prod}\n",
    "\n",
    "# crear el DataFrame\n",
    "prod_df = pd.DataFrame(prod_dic)\n",
    "\n",
    "prod_df"
   ]
  },
  {
   "cell_type": "code",
   "execution_count": null,
   "metadata": {},
   "outputs": [],
   "source": [
    "# exportamos a .CSV\n",
    "prod_df.to_csv('../data/productos.csv', index=False)"
   ]
  },
  {
   "attachments": {},
   "cell_type": "markdown",
   "metadata": {},
   "source": [
    "### **Subcategorías.**"
   ]
  },
  {
   "cell_type": "code",
   "execution_count": null,
   "metadata": {},
   "outputs": [],
   "source": [
    "# crear una lista conjunta de todas las subcategorias\n",
    "list_subcat= sub_fruta + sub_ensalada + sub_verdura\n",
    "\n",
    "# crear un diccionario con ids y nombres de subcategorias\n",
    "subcat_dic = {'subcategoria' : list_subcat}\n",
    "\n",
    "# crear el DataFrame\n",
    "subcat_df = pd.DataFrame(subcat_dic)\n",
    "\n",
    "subcat_df"
   ]
  },
  {
   "cell_type": "code",
   "execution_count": null,
   "metadata": {},
   "outputs": [],
   "source": [
    "# exportamos a .CSV\n",
    "subcat_df.to_csv('../data/subcategorias.csv', index=False)"
   ]
  },
  {
   "attachments": {},
   "cell_type": "markdown",
   "metadata": {},
   "source": [
    "### **Categorías.**"
   ]
  },
  {
   "cell_type": "code",
   "execution_count": null,
   "metadata": {},
   "outputs": [],
   "source": [
    "# crear una lista conjunta de todas las categorias\n",
    "list_cat= [cat_fruta, cat_ensalada, cat_verdura]\n",
    "\n",
    "# crear un diccionario con ids y nombres de subcategorias\n",
    "cat_dic = {'categoria' : list_cat}\n",
    "\n",
    "# crear el DataFrame\n",
    "cat_df = pd.DataFrame(cat_dic)\n",
    "\n",
    "cat_df"
   ]
  },
  {
   "cell_type": "code",
   "execution_count": null,
   "metadata": {},
   "outputs": [],
   "source": [
    "# exportamos a .CSV\n",
    "cat_df.to_csv('../data/categorias.csv', index=False)"
   ]
  }
 ],
 "metadata": {
  "kernelspec": {
   "display_name": "base",
   "language": "python",
   "name": "python3"
  },
  "language_info": {
   "codemirror_mode": {
    "name": "ipython",
    "version": 3
   },
   "file_extension": ".py",
   "mimetype": "text/x-python",
   "name": "python",
   "nbconvert_exporter": "python",
   "pygments_lexer": "ipython3",
   "version": "3.9.13"
  },
  "orig_nbformat": 4
 },
 "nbformat": 4,
 "nbformat_minor": 2
}
