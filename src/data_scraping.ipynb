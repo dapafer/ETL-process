{
 "cells": [
  {
   "attachments": {},
   "cell_type": "markdown",
   "metadata": {},
   "source": [
    "# **SCRAPING.**"
   ]
  },
  {
   "attachments": {},
   "cell_type": "markdown",
   "metadata": {},
   "source": [
    "## **Libraries import.**"
   ]
  },
  {
   "cell_type": "code",
   "execution_count": 6,
   "metadata": {},
   "outputs": [],
   "source": [
    "from selenium import webdriver\n",
    "from selenium.webdriver.chrome.options import Options\n",
    "\n",
    "# sustituye al archivo\n",
    "from webdriver_manager.chrome import ChromeDriverManager\n",
    "\n",
    "# para buscar por tag, clase, id...\n",
    "from selenium.webdriver.common.by import By\n",
    "\n",
    "# para pulsar teclas\n",
    "from selenium.webdriver.common.keys import Keys\n",
    "\n",
    "# para esperar a que cargue\n",
    "#from selenium.webdriver.support.ui import WebDriverWait\n",
    "\n",
    "# condiciones esperadas\n",
    "#from selenium.webdriver.support import expected_conditions as EC"
   ]
  },
  {
   "cell_type": "code",
   "execution_count": 2,
   "metadata": {},
   "outputs": [
    {
     "name": "stderr",
     "output_type": "stream",
     "text": [
      "/var/folders/m0/lx952bgs23ddy9nzvwd3ms200000gn/T/ipykernel_24957/397711484.py:12: DeprecationWarning: headless property is deprecated, instead use add_argument('--headless') or add_argument('--headless=new')\n",
      "  opciones.headless=False\n"
     ]
    }
   ],
   "source": [
    "# instala driver de chrome\n",
    "PATH = ChromeDriverManager().install()\n",
    "\n",
    "# driver configuration\n",
    "opciones = Options()\n",
    "\n",
    "# quita la bandera de ser robot\n",
    "opciones.add_experimental_option('excludeSwitches', ['enable-automation'])\n",
    "opciones.add_experimental_option('useAutomationExtension', False)\n",
    "\n",
    "# si True, no aperece la ventana (headless=no visible)\n",
    "opciones.headless=False\n",
    "\n",
    "# comienza maximizado\n",
    "opciones.add_argument('--start-maximized')\n",
    "\n",
    "# mantiene las cookies\n",
    "#opciones.add_argument('user-data-dir=selenium')\n",
    "\n",
    "# adblocker\n",
    "#opciones.add_extension('driver_folder/adblock.crx')\n",
    "\n",
    "# modo incognito\n",
    "opciones.add_argument('--incognito')\n",
    "\n",
    "# guardar las cookies\n",
    "#opciones.add_argument('user-data-dir=cookies')    # mantiene las coockies"
   ]
  },
  {
   "cell_type": "code",
   "execution_count": 3,
   "metadata": {},
   "outputs": [],
   "source": [
    "import time\n",
    "\n",
    "import warnings\n",
    "warnings.filterwarnings('ignore')"
   ]
  },
  {
   "attachments": {},
   "cell_type": "markdown",
   "metadata": {},
   "source": [
    "## **Scraping.**"
   ]
  },
  {
   "cell_type": "markdown",
   "metadata": {},
   "source": [
    "### **Navegation process.**"
   ]
  },
  {
   "cell_type": "code",
   "execution_count": 4,
   "metadata": {},
   "outputs": [],
   "source": [
    "url = 'https://www.mercadona.es'"
   ]
  },
  {
   "cell_type": "code",
   "execution_count": 8,
   "metadata": {},
   "outputs": [],
   "source": [
    "driver = webdriver.Chrome(PATH, options=opciones)\n",
    "driver.get(url)\n",
    "\n",
    "# rechaza cookies\n",
    "driver.find_element(By.XPATH, '//*[@id=\"root\"]/div/div/div/button[2]').click()\n",
    "time.sleep(3)\n",
    "\n",
    "# escribo texto en \"codigo postal\"\n",
    "cp = driver.find_element(By.XPATH, '//*[@id=\"root\"]/header/div/div/form/div/input')\n",
    "cp.send_keys('28045')\n",
    "\n"
   ]
  },
  {
   "cell_type": "code",
   "execution_count": null,
   "metadata": {},
   "outputs": [],
   "source": []
  }
 ],
 "metadata": {
  "kernelspec": {
   "display_name": "base",
   "language": "python",
   "name": "python3"
  },
  "language_info": {
   "codemirror_mode": {
    "name": "ipython",
    "version": 3
   },
   "file_extension": ".py",
   "mimetype": "text/x-python",
   "name": "python",
   "nbconvert_exporter": "python",
   "pygments_lexer": "ipython3",
   "version": "3.9.13"
  },
  "orig_nbformat": 4
 },
 "nbformat": 4,
 "nbformat_minor": 2
}
