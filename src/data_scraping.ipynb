{
 "cells": [
  {
   "attachments": {},
   "cell_type": "markdown",
   "metadata": {},
   "source": [
    "# **SCRAPING.**"
   ]
  },
  {
   "attachments": {},
   "cell_type": "markdown",
   "metadata": {},
   "source": [
    "## **Importación de librerías.**"
   ]
  },
  {
   "attachments": {},
   "cell_type": "markdown",
   "metadata": {},
   "source": [
    "### **Pandas.**"
   ]
  },
  {
   "cell_type": "code",
   "execution_count": 21,
   "metadata": {},
   "outputs": [],
   "source": [
    "import pandas as pd"
   ]
  },
  {
   "attachments": {},
   "cell_type": "markdown",
   "metadata": {},
   "source": [
    "### **BeautifulSoup.**"
   ]
  },
  {
   "cell_type": "code",
   "execution_count": 1,
   "metadata": {},
   "outputs": [],
   "source": [
    "import requests as req \n",
    "from bs4 import BeautifulSoup as bs"
   ]
  },
  {
   "attachments": {},
   "cell_type": "markdown",
   "metadata": {},
   "source": [
    "### **Selenium.**"
   ]
  },
  {
   "cell_type": "code",
   "execution_count": 2,
   "metadata": {},
   "outputs": [],
   "source": [
    "from selenium import webdriver\n",
    "from selenium.webdriver.chrome.options import Options\n",
    "\n",
    "# sustituye al archivo\n",
    "from webdriver_manager.chrome import ChromeDriverManager\n",
    "\n",
    "# para buscar por tag, clase, id...\n",
    "from selenium.webdriver.common.by import By\n",
    "\n",
    "# para pulsar teclas\n",
    "from selenium.webdriver.common.keys import Keys\n",
    "\n",
    "# para esperar a que cargue\n",
    "#from selenium.webdriver.support.ui import WebDriverWait\n",
    "\n",
    "# condiciones esperadas\n",
    "#from selenium.webdriver.support import expected_conditions as EC"
   ]
  },
  {
   "cell_type": "code",
   "execution_count": 3,
   "metadata": {},
   "outputs": [
    {
     "name": "stderr",
     "output_type": "stream",
     "text": [
      "/var/folders/m0/lx952bgs23ddy9nzvwd3ms200000gn/T/ipykernel_25918/1135515650.py:12: DeprecationWarning: headless property is deprecated, instead use add_argument('--headless') or add_argument('--headless=new')\n",
      "  opciones.headless = True\n"
     ]
    }
   ],
   "source": [
    "# instala driver de chrome\n",
    "PATH = ChromeDriverManager().install()\n",
    "\n",
    "# driver configuration\n",
    "opciones = Options()\n",
    "\n",
    "# quita la bandera de ser robot\n",
    "opciones.add_experimental_option('excludeSwitches', ['enable-automation'])\n",
    "opciones.add_experimental_option('useAutomationExtension', False)\n",
    "\n",
    "# si True, no aperece la ventana (headless=no visible)\n",
    "opciones.headless = True\n",
    "\n",
    "# comienza maximizado\n",
    "opciones.add_argument('--start-maximized')\n",
    "\n",
    "# mantiene las cookies\n",
    "#opciones.add_argument('user-data-dir=selenium')\n",
    "\n",
    "# adblocker\n",
    "#opciones.add_extension('driver_folder/adblock.crx')\n",
    "\n",
    "# modo incognito\n",
    "opciones.add_argument('--incognito')\n",
    "\n",
    "# guardar las cookies\n",
    "#opciones.add_argument('user-data-dir=cookies')    # mantiene las coockies"
   ]
  },
  {
   "cell_type": "code",
   "execution_count": 4,
   "metadata": {},
   "outputs": [],
   "source": [
    "import time\n",
    "\n",
    "import warnings\n",
    "warnings.filterwarnings('ignore')"
   ]
  },
  {
   "attachments": {},
   "cell_type": "markdown",
   "metadata": {},
   "source": [
    "## **Proceso de scraping.**"
   ]
  },
  {
   "cell_type": "code",
   "execution_count": 5,
   "metadata": {},
   "outputs": [],
   "source": [
    "url = 'https://www.mercadona.es'\n",
    "driver = webdriver.Chrome(PATH, options=opciones)\n",
    "driver.get(url)"
   ]
  },
  {
   "attachments": {},
   "cell_type": "markdown",
   "metadata": {},
   "source": [
    "### **Acceso a la tienda.**"
   ]
  },
  {
   "cell_type": "code",
   "execution_count": 9,
   "metadata": {},
   "outputs": [],
   "source": [
    "# acepta cookies\n",
    "driver.find_element(By.XPATH, '//*[@id=\"root\"]/div/div/div/button[2]').click()\n",
    "time.sleep(3)\n",
    "\n",
    "# escribo texto en \"codigo postal\"\n",
    "cp = driver.find_element(By.XPATH, '//*[@id=\"root\"]/header/div/div/form/div/input')\n",
    "cp.send_keys('28045')\n",
    "\n",
    "# entra a la tienda\n",
    "driver.find_element(By.XPATH, '//*[@id=\"root\"]/header/div/div/form/input').click()\n",
    "time.sleep(3)\n",
    "\n",
    "# entra a \"categorias\"\n",
    "driver.find_element(By.XPATH, '//*[@id=\"root\"]/header/div[1]/nav/a[1]').click()\n",
    "time.sleep(3)\n",
    "\n",
    "# entra a \"fruta y verdura\"\n",
    "driver.find_element(By.XPATH, '//*[@id=\"root\"]/div[2]/div[1]/ul/li[17]/div/button/span/label').click()\n",
    "time.sleep(3)"
   ]
  },
  {
   "attachments": {},
   "cell_type": "markdown",
   "metadata": {},
   "source": [
    "### **Fruta scraping.**"
   ]
  },
  {
   "cell_type": "code",
   "execution_count": 18,
   "metadata": {},
   "outputs": [
    {
     "data": {
      "text/plain": [
       "['Plátano de Canarias',\n",
       " 'Banana',\n",
       " 'Plátano macho',\n",
       " 'Uva blanca sin semillas',\n",
       " 'Uva roja sin semillas',\n",
       " 'Manzana Golden',\n",
       " 'Pera Conferencia',\n",
       " 'Peras Conferencia',\n",
       " 'Pera Ercolina',\n",
       " 'Manzana Granny Smith',\n",
       " 'Manzana Evelina',\n",
       " 'Manzana Evelina',\n",
       " 'Manzana Envy',\n",
       " 'Manzanas Envy',\n",
       " '1/4 Sandía baja en semillas',\n",
       " 'Media sandía baja en semillas',\n",
       " 'Sandía baja en semillas',\n",
       " 'Limones',\n",
       " 'Limón',\n",
       " 'Mandarina',\n",
       " 'Mandarina',\n",
       " 'Naranja para mesa',\n",
       " 'Naranjas',\n",
       " 'Naranjas',\n",
       " 'Pomelo',\n",
       " 'Limas',\n",
       " 'Kiwi verde',\n",
       " 'Kiwis verdes',\n",
       " 'Aguacate',\n",
       " 'Aguacates',\n",
       " 'Piña',\n",
       " 'Media piña',\n",
       " 'Guacamole Hacendado',\n",
       " 'Guacamole Hacendado',\n",
       " 'Mango',\n",
       " 'Piña natural a rodajas',\n",
       " 'Papaya',\n",
       " 'Media papaya',\n",
       " 'Fresón',\n",
       " 'Frambuesas',\n",
       " 'Níspero',\n",
       " 'Moras',\n",
       " 'Arándanos',\n",
       " 'Arándanos']"
      ]
     },
     "execution_count": 18,
     "metadata": {},
     "output_type": "execute_result"
    }
   ],
   "source": [
    "# extraemos nombres de frutas\n",
    "lista_frutas = driver.find_elements(By.CSS_SELECTOR, 'h4.subhead1-r.product-cell__description-name[data-test=\"product-cell-name\"]')\n",
    "frutas = [nombre.text for nombre in lista_frutas]\n",
    "\n",
    "frutas"
   ]
  },
  {
   "cell_type": "code",
   "execution_count": 38,
   "metadata": {},
   "outputs": [
    {
     "data": {
      "text/plain": [
       "['Plátano y uva',\n",
       " 'Manzana y pera',\n",
       " 'Melón y sandía',\n",
       " 'Cítricos',\n",
       " 'Fruta tropical',\n",
       " 'Otras frutas']"
      ]
     },
     "execution_count": 38,
     "metadata": {},
     "output_type": "execute_result"
    }
   ],
   "source": [
    "# extraemos nombres de subcategorias\n",
    "lista_subcategorias_fruta = driver.find_elements(By.CSS_SELECTOR, 'h2.section__header.headline1-b')\n",
    "subcategorias_fruta = [subcategoria.text for subcategoria in lista_subcategorias]\n",
    "\n",
    "subcategorias_fruta"
   ]
  },
  {
   "cell_type": "code",
   "execution_count": 39,
   "metadata": {},
   "outputs": [
    {
     "data": {
      "text/plain": [
       "'Fruta'"
      ]
     },
     "execution_count": 39,
     "metadata": {},
     "output_type": "execute_result"
    }
   ],
   "source": [
    "# extraemos nombre de categoria\n",
    "categoria_fruta = driver.find_element(By.XPATH, '//h1[@id=\"content\" and contains(@class, \"category-detail__title\")]').text\n",
    "\n",
    "categoria_fruta"
   ]
  },
  {
   "cell_type": "code",
   "execution_count": null,
   "metadata": {},
   "outputs": [],
   "source": []
  }
 ],
 "metadata": {
  "kernelspec": {
   "display_name": "base",
   "language": "python",
   "name": "python3"
  },
  "language_info": {
   "codemirror_mode": {
    "name": "ipython",
    "version": 3
   },
   "file_extension": ".py",
   "mimetype": "text/x-python",
   "name": "python",
   "nbconvert_exporter": "python",
   "pygments_lexer": "ipython3",
   "version": "3.9.13"
  },
  "orig_nbformat": 4
 },
 "nbformat": 4,
 "nbformat_minor": 2
}
