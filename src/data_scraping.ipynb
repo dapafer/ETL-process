{
 "cells": [
  {
   "attachments": {},
   "cell_type": "markdown",
   "metadata": {},
   "source": [
    "# **SCRAPING.**"
   ]
  },
  {
   "attachments": {},
   "cell_type": "markdown",
   "metadata": {},
   "source": [
    "## **Importación de librerías.**"
   ]
  },
  {
   "attachments": {},
   "cell_type": "markdown",
   "metadata": {},
   "source": [
    "### **Pandas.**"
   ]
  },
  {
   "cell_type": "code",
   "execution_count": 1,
   "metadata": {},
   "outputs": [],
   "source": [
    "import pandas as pd"
   ]
  },
  {
   "attachments": {},
   "cell_type": "markdown",
   "metadata": {},
   "source": [
    "### **BeautifulSoup.**"
   ]
  },
  {
   "cell_type": "code",
   "execution_count": 2,
   "metadata": {},
   "outputs": [],
   "source": [
    "import requests as req \n",
    "from bs4 import BeautifulSoup as bs"
   ]
  },
  {
   "attachments": {},
   "cell_type": "markdown",
   "metadata": {},
   "source": [
    "### **Selenium.**"
   ]
  },
  {
   "cell_type": "code",
   "execution_count": 3,
   "metadata": {},
   "outputs": [],
   "source": [
    "from selenium import webdriver\n",
    "from selenium.webdriver.chrome.options import Options\n",
    "\n",
    "# sustituye al archivo\n",
    "from webdriver_manager.chrome import ChromeDriverManager\n",
    "\n",
    "# para buscar por tag, clase, id...\n",
    "from selenium.webdriver.common.by import By\n",
    "\n",
    "# para pulsar teclas\n",
    "from selenium.webdriver.common.keys import Keys\n",
    "\n",
    "# para esperar a que cargue\n",
    "#from selenium.webdriver.support.ui import WebDriverWait\n",
    "\n",
    "# condiciones esperadas\n",
    "#from selenium.webdriver.support import expected_conditions as EC"
   ]
  },
  {
   "cell_type": "code",
   "execution_count": 4,
   "metadata": {},
   "outputs": [
    {
     "name": "stderr",
     "output_type": "stream",
     "text": [
      "/var/folders/m0/lx952bgs23ddy9nzvwd3ms200000gn/T/ipykernel_26918/1135515650.py:12: DeprecationWarning: headless property is deprecated, instead use add_argument('--headless') or add_argument('--headless=new')\n",
      "  opciones.headless = True\n"
     ]
    }
   ],
   "source": [
    "# instala driver de chrome\n",
    "PATH = ChromeDriverManager().install()\n",
    "\n",
    "# driver configuration\n",
    "opciones = Options()\n",
    "\n",
    "# quita la bandera de ser robot\n",
    "opciones.add_experimental_option('excludeSwitches', ['enable-automation'])\n",
    "opciones.add_experimental_option('useAutomationExtension', False)\n",
    "\n",
    "# si True, no aperece la ventana (headless=no visible)\n",
    "opciones.headless = True\n",
    "\n",
    "# comienza maximizado\n",
    "opciones.add_argument('--start-maximized')\n",
    "\n",
    "# mantiene las cookies\n",
    "#opciones.add_argument('user-data-dir=selenium')\n",
    "\n",
    "# adblocker\n",
    "#opciones.add_extension('driver_folder/adblock.crx')\n",
    "\n",
    "# modo incognito\n",
    "opciones.add_argument('--incognito')\n",
    "\n",
    "# guardar las cookies\n",
    "#opciones.add_argument('user-data-dir=cookies')    # mantiene las coockies"
   ]
  },
  {
   "cell_type": "code",
   "execution_count": 5,
   "metadata": {},
   "outputs": [],
   "source": [
    "import time\n",
    "\n",
    "import warnings\n",
    "warnings.filterwarnings('ignore')"
   ]
  },
  {
   "attachments": {},
   "cell_type": "markdown",
   "metadata": {},
   "source": [
    "## **Proceso de scraping.**"
   ]
  },
  {
   "cell_type": "code",
   "execution_count": 6,
   "metadata": {},
   "outputs": [],
   "source": [
    "url = 'https://www.mercadona.es'\n",
    "driver = webdriver.Chrome(PATH, options=opciones)\n",
    "driver.get(url)"
   ]
  },
  {
   "attachments": {},
   "cell_type": "markdown",
   "metadata": {},
   "source": [
    "### **Acceso a la tienda.**"
   ]
  },
  {
   "cell_type": "code",
   "execution_count": 7,
   "metadata": {},
   "outputs": [],
   "source": [
    "# acepta cookies\n",
    "driver.find_element(By.XPATH, '//*[@id=\"root\"]/div/div/div/button[2]').click()\n",
    "time.sleep(3)\n",
    "\n",
    "# escribo texto en \"codigo postal\"\n",
    "cp = driver.find_element(By.XPATH, '//*[@id=\"root\"]/header/div/div/form/div/input')\n",
    "cp.send_keys('28045')\n",
    "\n",
    "# entra a la tienda\n",
    "driver.find_element(By.XPATH, '//*[@id=\"root\"]/header/div/div/form/input').click()\n",
    "time.sleep(3)\n",
    "\n",
    "# entra a \"categorias\"\n",
    "driver.find_element(By.XPATH, '//*[@id=\"root\"]/header/div[1]/nav/a[1]').click()\n",
    "time.sleep(3)\n",
    "\n",
    "# entra a \"fruta y verdura\"\n",
    "driver.find_element(By.XPATH, '//*[@id=\"root\"]/div[2]/div[1]/ul/li[17]/div/button/span/label').click()\n",
    "time.sleep(3)"
   ]
  },
  {
   "attachments": {},
   "cell_type": "markdown",
   "metadata": {},
   "source": [
    "### **Fruta scraping.**"
   ]
  },
  {
   "cell_type": "code",
   "execution_count": 8,
   "metadata": {},
   "outputs": [
    {
     "data": {
      "text/plain": [
       "['Plátano de Canarias',\n",
       " 'Banana',\n",
       " 'Plátano macho',\n",
       " 'Uva blanca sin semillas',\n",
       " 'Uva roja sin semillas',\n",
       " 'Manzana Golden',\n",
       " 'Pera Conferencia',\n",
       " 'Peras Conferencia',\n",
       " 'Pera Ercolina',\n",
       " 'Manzana Granny Smith',\n",
       " 'Manzana Evelina',\n",
       " 'Manzana Evelina',\n",
       " 'Manzana Envy',\n",
       " 'Manzanas Envy',\n",
       " '1/4 Sandía baja en semillas',\n",
       " 'Media sandía baja en semillas',\n",
       " 'Sandía baja en semillas',\n",
       " 'Limones',\n",
       " 'Limón',\n",
       " 'Mandarina',\n",
       " 'Mandarina',\n",
       " 'Naranja para mesa',\n",
       " 'Naranjas',\n",
       " 'Naranjas',\n",
       " 'Pomelo',\n",
       " 'Limas',\n",
       " 'Kiwi verde',\n",
       " 'Kiwis verdes',\n",
       " 'Aguacate',\n",
       " 'Aguacates',\n",
       " 'Piña',\n",
       " 'Media piña',\n",
       " 'Guacamole Hacendado',\n",
       " 'Guacamole Hacendado',\n",
       " 'Mango',\n",
       " 'Piña natural a rodajas',\n",
       " 'Papaya',\n",
       " 'Media papaya',\n",
       " 'Chirimoya',\n",
       " 'Fresón',\n",
       " 'Frambuesas',\n",
       " 'Níspero',\n",
       " 'Moras',\n",
       " 'Arándanos',\n",
       " 'Arándanos']"
      ]
     },
     "execution_count": 8,
     "metadata": {},
     "output_type": "execute_result"
    }
   ],
   "source": [
    "# extraemos nombres de frutas\n",
    "list_frutas = driver.find_elements(By.CSS_SELECTOR, 'h4.subhead1-r.product-cell__description-name[data-test=\"product-cell-name\"]')\n",
    "frutas = [fruta.text for fruta in list_frutas]\n",
    "\n",
    "frutas"
   ]
  },
  {
   "cell_type": "code",
   "execution_count": 9,
   "metadata": {},
   "outputs": [
    {
     "data": {
      "text/plain": [
       "['Plátano y uva',\n",
       " 'Manzana y pera',\n",
       " 'Melón y sandía',\n",
       " 'Cítricos',\n",
       " 'Fruta tropical',\n",
       " 'Otras frutas']"
      ]
     },
     "execution_count": 9,
     "metadata": {},
     "output_type": "execute_result"
    }
   ],
   "source": [
    "# extraemos nombres de subcategorias\n",
    "list_sub_fruta = driver.find_elements(By.CSS_SELECTOR, 'h2.section__header.headline1-b')\n",
    "sub_fruta = [sub.text for sub in list_sub_fruta]\n",
    "\n",
    "sub_fruta"
   ]
  },
  {
   "cell_type": "code",
   "execution_count": 10,
   "metadata": {},
   "outputs": [
    {
     "data": {
      "text/plain": [
       "'Fruta'"
      ]
     },
     "execution_count": 10,
     "metadata": {},
     "output_type": "execute_result"
    }
   ],
   "source": [
    "# extraemos nombre de categoria\n",
    "cat_fruta = driver.find_element(By.XPATH, '//h1[@id=\"content\" and contains(@class, \"category-detail__title\")]').text\n",
    "\n",
    "cat_fruta"
   ]
  },
  {
   "attachments": {},
   "cell_type": "markdown",
   "metadata": {},
   "source": [
    "### **Cambio de categoría.**"
   ]
  },
  {
   "cell_type": "code",
   "execution_count": 11,
   "metadata": {},
   "outputs": [],
   "source": [
    "driver.find_element(By.XPATH, '//*[@id=\"root\"]/div[2]/div[1]/ul/li[17]/div/ul/li[2]/button').click()\n",
    "time.sleep(3)"
   ]
  },
  {
   "attachments": {},
   "cell_type": "markdown",
   "metadata": {},
   "source": [
    "### **Ensaladas scraping.**"
   ]
  },
  {
   "cell_type": "code",
   "execution_count": 12,
   "metadata": {},
   "outputs": [
    {
     "data": {
      "text/plain": [
       "['Lechuga iceberg',\n",
       " 'Ensalada mezcla 4 estaciones',\n",
       " 'Lechugas corazón romana',\n",
       " 'Ensalada mezcla brotes tiernos',\n",
       " 'Canónigos base para ensalada',\n",
       " 'Lechuga iceberg base para ensalada',\n",
       " 'Ensalada mezcla gourmet',\n",
       " 'Cogollos de lechuga',\n",
       " 'Lechuga corazón romana',\n",
       " 'Endibias',\n",
       " 'Ensalada mezcla brotes tiernos maxi',\n",
       " 'Ensalada mezcla gourmet maxi',\n",
       " 'Ensalada mezcla tierna',\n",
       " 'Rúcula base para ensalada',\n",
       " 'Cogollos corazón de lechuga',\n",
       " 'Ensalada mezcla primavera',\n",
       " 'Ensalada mezcla dúo canónigos y rúcula',\n",
       " 'Ensalada mezcla fresca',\n",
       " 'Lechuga hoja roble',\n",
       " 'Escarola rizada base para ensalada',\n",
       " 'Escarola rizada',\n",
       " 'Espinaca baby base para ensalada',\n",
       " 'Lechuga romana cortada',\n",
       " 'Ensalada César',\n",
       " 'Ensalada California',\n",
       " 'Wraps Texas',\n",
       " 'Ensalada de la casa',\n",
       " 'Ensalada mil islas',\n",
       " 'Ensalada ensatún',\n",
       " 'Ensalada jamón',\n",
       " 'Ensalada de pasta',\n",
       " 'Ensalada queso de cabra',\n",
       " 'Ensalada de pasta Listo para Comer']"
      ]
     },
     "execution_count": 12,
     "metadata": {},
     "output_type": "execute_result"
    }
   ],
   "source": [
    "# extraemos nombres de ensaladas\n",
    "list_ensaladas = driver.find_elements(By.CSS_SELECTOR, 'h4.subhead1-r.product-cell__description-name[data-test=\"product-cell-name\"]')\n",
    "ensaladas = [ensalada.text for ensalada in list_ensaladas]\n",
    "\n",
    "ensaladas"
   ]
  },
  {
   "cell_type": "code",
   "execution_count": 13,
   "metadata": {},
   "outputs": [
    {
     "data": {
      "text/plain": [
       "['Lechuga', 'Ensalada preparada']"
      ]
     },
     "execution_count": 13,
     "metadata": {},
     "output_type": "execute_result"
    }
   ],
   "source": [
    "# extraemos nombres de subcategorias\n",
    "list_sub_ensalada = driver.find_elements(By.CSS_SELECTOR, 'h2.section__header.headline1-b')\n",
    "sub_ensalada = [sub.text for sub in list_sub_ensalada]\n",
    "\n",
    "sub_ensalada"
   ]
  },
  {
   "cell_type": "code",
   "execution_count": 14,
   "metadata": {},
   "outputs": [
    {
     "data": {
      "text/plain": [
       "'Lechuga y ensalada preparada'"
      ]
     },
     "execution_count": 14,
     "metadata": {},
     "output_type": "execute_result"
    }
   ],
   "source": [
    "# extraemos nombre de categoria\n",
    "cat_ensalada = driver.find_element(By.XPATH, '//h1[@id=\"content\" and contains(@class, \"category-detail__title\")]').text\n",
    "\n",
    "cat_ensalada"
   ]
  },
  {
   "attachments": {},
   "cell_type": "markdown",
   "metadata": {},
   "source": [
    "### **Cambio de categoría.**"
   ]
  },
  {
   "cell_type": "code",
   "execution_count": 15,
   "metadata": {},
   "outputs": [],
   "source": [
    "driver.find_element(By.XPATH, '//*[@id=\"root\"]/div[2]/div[1]/ul/li[17]/div/ul/li[3]/button').click()\n",
    "time.sleep(3)"
   ]
  },
  {
   "attachments": {},
   "cell_type": "markdown",
   "metadata": {},
   "source": [
    "### **Verduras scraping.**"
   ]
  },
  {
   "cell_type": "code",
   "execution_count": 16,
   "metadata": {},
   "outputs": [
    {
     "data": {
      "text/plain": [
       "['Patata',\n",
       " 'Patatas',\n",
       " 'Patatas rojas',\n",
       " 'Patatas',\n",
       " 'Patatas guarnición',\n",
       " 'Batata',\n",
       " 'Patatas especial para freir',\n",
       " 'Cebollas tiernas',\n",
       " 'Cebollas',\n",
       " 'Cebollas',\n",
       " 'Ajos morados',\n",
       " 'Cebollas dulces',\n",
       " 'Ajo tierno',\n",
       " 'Ajos morados',\n",
       " 'Cebollas rojas',\n",
       " 'Yuca',\n",
       " 'Ajo negro dientes pelados',\n",
       " 'Picada de ajo y Perejil',\n",
       " 'Tomate ensalada',\n",
       " 'Tomate canario',\n",
       " 'Tomate pera',\n",
       " 'Tomates pera',\n",
       " 'Tomates cherry pera kumato',\n",
       " 'Tomates cherry',\n",
       " 'Tomates cherry en rama Dulcita',\n",
       " 'Tomates kumato',\n",
       " 'Tomates',\n",
       " 'Tomate kumato negro',\n",
       " 'Tomate rallado',\n",
       " 'Rama de Tomates',\n",
       " 'Tomate rosa',\n",
       " 'Tomate ensalada',\n",
       " 'Zanahorias',\n",
       " 'Pepino',\n",
       " 'Pepino holandés',\n",
       " 'Zanahorias',\n",
       " 'Pepinos',\n",
       " 'Palitos de zanahoria',\n",
       " 'Zanahoria rallada base para ensalada',\n",
       " 'Pimiento rojo',\n",
       " 'Calabacín verde',\n",
       " 'Pimiento verde freír',\n",
       " 'Calabacín blanco',\n",
       " 'Pimiento verde',\n",
       " 'Pimientos tricolor rojo, amarillo y verde',\n",
       " 'Pimientos semipicantes',\n",
       " 'Pimientos rojos picantes',\n",
       " 'Coliflor',\n",
       " 'Repollo liso',\n",
       " 'Medio repollo liso',\n",
       " 'Repollo rizado',\n",
       " 'Medio repollo rizado',\n",
       " 'Col lombarda',\n",
       " 'Media col lombarda',\n",
       " 'Champiñón pequeño',\n",
       " 'Champiñón laminado limpio',\n",
       " 'Seta',\n",
       " 'Champiñón grande',\n",
       " 'Seta laminada',\n",
       " 'Champiñón Portobello',\n",
       " 'Setas al plato con perejil',\n",
       " 'Salteado de setas laminadas',\n",
       " 'Seta shiitake',\n",
       " 'Perejil troceado',\n",
       " 'Jengibre',\n",
       " 'Cilantro',\n",
       " 'Albahaca',\n",
       " 'Hierbabuena',\n",
       " 'Cebollino',\n",
       " 'Espinacas cortadas',\n",
       " 'Brócoli',\n",
       " 'Berenjena',\n",
       " 'Judía verde plana',\n",
       " 'Judía verde plana',\n",
       " 'Acelgas cortadas',\n",
       " 'Puerros',\n",
       " 'Alcachofa',\n",
       " 'Judía verde redonda',\n",
       " 'Calabaza cacahuete cortada a trozos',\n",
       " 'Apio verde',\n",
       " 'Preparado de verdura para cocido',\n",
       " 'Espárrago verde fino',\n",
       " 'Rabanitos',\n",
       " 'Remolacha cocida y pelada',\n",
       " 'Acelgas',\n",
       " 'Maíz dulce en mazorca cocido',\n",
       " 'Calabaza cacahuete',\n",
       " 'Media calabaza cacahuete',\n",
       " 'Bimi',\n",
       " 'Espárrago verde grueso',\n",
       " 'Maíz dulce en mazorca',\n",
       " '3 Vegetales para micro',\n",
       " 'Floretas de brócoli para micro',\n",
       " 'Mix de verduras paisana para micro',\n",
       " 'Sopa juliana para micro',\n",
       " 'Patata para micro',\n",
       " 'Batata para micro',\n",
       " 'Mix de verduras jardinera para micro']"
      ]
     },
     "execution_count": 16,
     "metadata": {},
     "output_type": "execute_result"
    }
   ],
   "source": [
    "# extraemos nombres de verduras\n",
    "list_verduras = driver.find_elements(By.CSS_SELECTOR, 'h4.subhead1-r.product-cell__description-name[data-test=\"product-cell-name\"]')\n",
    "verduras = [verdura.text for verdura in list_verduras]\n",
    "\n",
    "verduras"
   ]
  },
  {
   "cell_type": "code",
   "execution_count": 17,
   "metadata": {},
   "outputs": [
    {
     "data": {
      "text/plain": [
       "['Patata',\n",
       " 'Cebolla y ajo',\n",
       " 'Tomate',\n",
       " 'Pepino y zanahoria',\n",
       " 'Calabacín y pimiento',\n",
       " 'Repollo y col',\n",
       " 'Setas y champiñones',\n",
       " 'Hierbas aromáticas',\n",
       " 'Otras verduras y hortalizas',\n",
       " 'Verduras al vapor']"
      ]
     },
     "execution_count": 17,
     "metadata": {},
     "output_type": "execute_result"
    }
   ],
   "source": [
    "# extraemos nombres de subcategorias\n",
    "list_sub_verdura = driver.find_elements(By.CSS_SELECTOR, 'h2.section__header.headline1-b')\n",
    "sub_verdura = [sub.text for sub in list_sub_verdura]\n",
    "\n",
    "sub_verdura"
   ]
  },
  {
   "cell_type": "code",
   "execution_count": 18,
   "metadata": {},
   "outputs": [
    {
     "data": {
      "text/plain": [
       "'Verdura'"
      ]
     },
     "execution_count": 18,
     "metadata": {},
     "output_type": "execute_result"
    }
   ],
   "source": [
    "# extraemos nombre de categoria\n",
    "cat_verdura = driver.find_element(By.XPATH, '//h1[@id=\"content\" and contains(@class, \"category-detail__title\")]').text\n",
    "\n",
    "cat_verdura"
   ]
  },
  {
   "attachments": {},
   "cell_type": "markdown",
   "metadata": {},
   "source": [
    "### **Cierre del driver.**"
   ]
  },
  {
   "cell_type": "code",
   "execution_count": 19,
   "metadata": {},
   "outputs": [],
   "source": [
    "driver.quit()"
   ]
  },
  {
   "attachments": {},
   "cell_type": "markdown",
   "metadata": {},
   "source": [
    "## **Creación y exportación de tablas.**"
   ]
  },
  {
   "attachments": {},
   "cell_type": "markdown",
   "metadata": {},
   "source": [
    "### **Productos.**"
   ]
  },
  {
   "cell_type": "code",
   "execution_count": 20,
   "metadata": {},
   "outputs": [
    {
     "data": {
      "text/html": [
       "<div>\n",
       "<style scoped>\n",
       "    .dataframe tbody tr th:only-of-type {\n",
       "        vertical-align: middle;\n",
       "    }\n",
       "\n",
       "    .dataframe tbody tr th {\n",
       "        vertical-align: top;\n",
       "    }\n",
       "\n",
       "    .dataframe thead th {\n",
       "        text-align: right;\n",
       "    }\n",
       "</style>\n",
       "<table border=\"1\" class=\"dataframe\">\n",
       "  <thead>\n",
       "    <tr style=\"text-align: right;\">\n",
       "      <th></th>\n",
       "      <th>fruta_verdura_id</th>\n",
       "      <th>nombre</th>\n",
       "    </tr>\n",
       "  </thead>\n",
       "  <tbody>\n",
       "    <tr>\n",
       "      <th>0</th>\n",
       "      <td>1</td>\n",
       "      <td>Plátano de Canarias</td>\n",
       "    </tr>\n",
       "    <tr>\n",
       "      <th>1</th>\n",
       "      <td>2</td>\n",
       "      <td>Banana</td>\n",
       "    </tr>\n",
       "    <tr>\n",
       "      <th>2</th>\n",
       "      <td>3</td>\n",
       "      <td>Plátano macho</td>\n",
       "    </tr>\n",
       "    <tr>\n",
       "      <th>3</th>\n",
       "      <td>4</td>\n",
       "      <td>Uva blanca sin semillas</td>\n",
       "    </tr>\n",
       "    <tr>\n",
       "      <th>4</th>\n",
       "      <td>5</td>\n",
       "      <td>Uva roja sin semillas</td>\n",
       "    </tr>\n",
       "    <tr>\n",
       "      <th>...</th>\n",
       "      <td>...</td>\n",
       "      <td>...</td>\n",
       "    </tr>\n",
       "    <tr>\n",
       "      <th>171</th>\n",
       "      <td>172</td>\n",
       "      <td>Mix de verduras paisana para micro</td>\n",
       "    </tr>\n",
       "    <tr>\n",
       "      <th>172</th>\n",
       "      <td>173</td>\n",
       "      <td>Sopa juliana para micro</td>\n",
       "    </tr>\n",
       "    <tr>\n",
       "      <th>173</th>\n",
       "      <td>174</td>\n",
       "      <td>Patata para micro</td>\n",
       "    </tr>\n",
       "    <tr>\n",
       "      <th>174</th>\n",
       "      <td>175</td>\n",
       "      <td>Batata para micro</td>\n",
       "    </tr>\n",
       "    <tr>\n",
       "      <th>175</th>\n",
       "      <td>176</td>\n",
       "      <td>Mix de verduras jardinera para micro</td>\n",
       "    </tr>\n",
       "  </tbody>\n",
       "</table>\n",
       "<p>176 rows × 2 columns</p>\n",
       "</div>"
      ],
      "text/plain": [
       "     fruta_verdura_id                                nombre\n",
       "0                   1                   Plátano de Canarias\n",
       "1                   2                                Banana\n",
       "2                   3                         Plátano macho\n",
       "3                   4               Uva blanca sin semillas\n",
       "4                   5                 Uva roja sin semillas\n",
       "..                ...                                   ...\n",
       "171               172    Mix de verduras paisana para micro\n",
       "172               173               Sopa juliana para micro\n",
       "173               174                     Patata para micro\n",
       "174               175                     Batata para micro\n",
       "175               176  Mix de verduras jardinera para micro\n",
       "\n",
       "[176 rows x 2 columns]"
      ]
     },
     "execution_count": 20,
     "metadata": {},
     "output_type": "execute_result"
    }
   ],
   "source": [
    "# crear una lista conjunta de todos los productos\n",
    "list_fruta_verdura = frutas + ensaladas + verduras\n",
    "\n",
    "# crear un diccionario con ids y nombres de producto\n",
    "fruta_verdura_dic = {\n",
    "    'fruta_verdura_id': list(range(1, len(list_fruta_verdura) + 1)),\n",
    "    'nombre': list_fruta_verdura\n",
    "}\n",
    "\n",
    "# crear el DataFrame\n",
    "fruta_verdura_df = pd.DataFrame(fruta_verdura_dic)\n",
    "\n",
    "fruta_verdura_df"
   ]
  },
  {
   "cell_type": "code",
   "execution_count": 21,
   "metadata": {},
   "outputs": [],
   "source": [
    "# exportamos a .CSV\n",
    "fruta_verdura_df.to_csv('../data/productos.csv', index=False)"
   ]
  },
  {
   "attachments": {},
   "cell_type": "markdown",
   "metadata": {},
   "source": [
    "### **Subcategorías.**"
   ]
  },
  {
   "cell_type": "code",
   "execution_count": 22,
   "metadata": {},
   "outputs": [
    {
     "data": {
      "text/html": [
       "<div>\n",
       "<style scoped>\n",
       "    .dataframe tbody tr th:only-of-type {\n",
       "        vertical-align: middle;\n",
       "    }\n",
       "\n",
       "    .dataframe tbody tr th {\n",
       "        vertical-align: top;\n",
       "    }\n",
       "\n",
       "    .dataframe thead th {\n",
       "        text-align: right;\n",
       "    }\n",
       "</style>\n",
       "<table border=\"1\" class=\"dataframe\">\n",
       "  <thead>\n",
       "    <tr style=\"text-align: right;\">\n",
       "      <th></th>\n",
       "      <th>subcategoria_id</th>\n",
       "      <th>nombre</th>\n",
       "    </tr>\n",
       "  </thead>\n",
       "  <tbody>\n",
       "    <tr>\n",
       "      <th>0</th>\n",
       "      <td>1</td>\n",
       "      <td>Plátano y uva</td>\n",
       "    </tr>\n",
       "    <tr>\n",
       "      <th>1</th>\n",
       "      <td>2</td>\n",
       "      <td>Manzana y pera</td>\n",
       "    </tr>\n",
       "    <tr>\n",
       "      <th>2</th>\n",
       "      <td>3</td>\n",
       "      <td>Melón y sandía</td>\n",
       "    </tr>\n",
       "    <tr>\n",
       "      <th>3</th>\n",
       "      <td>4</td>\n",
       "      <td>Cítricos</td>\n",
       "    </tr>\n",
       "    <tr>\n",
       "      <th>4</th>\n",
       "      <td>5</td>\n",
       "      <td>Fruta tropical</td>\n",
       "    </tr>\n",
       "    <tr>\n",
       "      <th>5</th>\n",
       "      <td>6</td>\n",
       "      <td>Otras frutas</td>\n",
       "    </tr>\n",
       "    <tr>\n",
       "      <th>6</th>\n",
       "      <td>7</td>\n",
       "      <td>Lechuga</td>\n",
       "    </tr>\n",
       "    <tr>\n",
       "      <th>7</th>\n",
       "      <td>8</td>\n",
       "      <td>Ensalada preparada</td>\n",
       "    </tr>\n",
       "    <tr>\n",
       "      <th>8</th>\n",
       "      <td>9</td>\n",
       "      <td>Patata</td>\n",
       "    </tr>\n",
       "    <tr>\n",
       "      <th>9</th>\n",
       "      <td>10</td>\n",
       "      <td>Cebolla y ajo</td>\n",
       "    </tr>\n",
       "    <tr>\n",
       "      <th>10</th>\n",
       "      <td>11</td>\n",
       "      <td>Tomate</td>\n",
       "    </tr>\n",
       "    <tr>\n",
       "      <th>11</th>\n",
       "      <td>12</td>\n",
       "      <td>Pepino y zanahoria</td>\n",
       "    </tr>\n",
       "    <tr>\n",
       "      <th>12</th>\n",
       "      <td>13</td>\n",
       "      <td>Calabacín y pimiento</td>\n",
       "    </tr>\n",
       "    <tr>\n",
       "      <th>13</th>\n",
       "      <td>14</td>\n",
       "      <td>Repollo y col</td>\n",
       "    </tr>\n",
       "    <tr>\n",
       "      <th>14</th>\n",
       "      <td>15</td>\n",
       "      <td>Setas y champiñones</td>\n",
       "    </tr>\n",
       "    <tr>\n",
       "      <th>15</th>\n",
       "      <td>16</td>\n",
       "      <td>Hierbas aromáticas</td>\n",
       "    </tr>\n",
       "    <tr>\n",
       "      <th>16</th>\n",
       "      <td>17</td>\n",
       "      <td>Otras verduras y hortalizas</td>\n",
       "    </tr>\n",
       "    <tr>\n",
       "      <th>17</th>\n",
       "      <td>18</td>\n",
       "      <td>Verduras al vapor</td>\n",
       "    </tr>\n",
       "  </tbody>\n",
       "</table>\n",
       "</div>"
      ],
      "text/plain": [
       "    subcategoria_id                       nombre\n",
       "0                 1                Plátano y uva\n",
       "1                 2               Manzana y pera\n",
       "2                 3               Melón y sandía\n",
       "3                 4                     Cítricos\n",
       "4                 5               Fruta tropical\n",
       "5                 6                 Otras frutas\n",
       "6                 7                      Lechuga\n",
       "7                 8           Ensalada preparada\n",
       "8                 9                       Patata\n",
       "9                10                Cebolla y ajo\n",
       "10               11                       Tomate\n",
       "11               12           Pepino y zanahoria\n",
       "12               13         Calabacín y pimiento\n",
       "13               14                Repollo y col\n",
       "14               15          Setas y champiñones\n",
       "15               16           Hierbas aromáticas\n",
       "16               17  Otras verduras y hortalizas\n",
       "17               18            Verduras al vapor"
      ]
     },
     "execution_count": 22,
     "metadata": {},
     "output_type": "execute_result"
    }
   ],
   "source": [
    "# crear una lista conjunta de todas las subcategorias\n",
    "list_subcat= sub_fruta + sub_ensalada + sub_verdura\n",
    "\n",
    "# crear un diccionario con ids y nombres de subcategorias\n",
    "subcat_dic = {\n",
    "    'subcategoria_id': list(range(1, len(list_subcat) + 1)),\n",
    "    'nombre': list_subcat\n",
    "}\n",
    "\n",
    "# crear el DataFrame\n",
    "subcat_df = pd.DataFrame(subcat_dic)\n",
    "\n",
    "subcat_df"
   ]
  },
  {
   "cell_type": "code",
   "execution_count": 23,
   "metadata": {},
   "outputs": [],
   "source": [
    "# exportamos a .CSV\n",
    "subcat_df.to_csv('../data/subcategorias.csv', index=False)"
   ]
  },
  {
   "cell_type": "code",
   "execution_count": null,
   "metadata": {},
   "outputs": [],
   "source": []
  }
 ],
 "metadata": {
  "kernelspec": {
   "display_name": "base",
   "language": "python",
   "name": "python3"
  },
  "language_info": {
   "codemirror_mode": {
    "name": "ipython",
    "version": 3
   },
   "file_extension": ".py",
   "mimetype": "text/x-python",
   "name": "python",
   "nbconvert_exporter": "python",
   "pygments_lexer": "ipython3",
   "version": "3.9.13"
  },
  "orig_nbformat": 4
 },
 "nbformat": 4,
 "nbformat_minor": 2
}
