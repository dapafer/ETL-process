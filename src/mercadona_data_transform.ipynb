{
 "cells": [
  {
   "attachments": {},
   "cell_type": "markdown",
   "metadata": {},
   "source": [
    "# **CLEANING.**"
   ]
  },
  {
   "attachments": {},
   "cell_type": "markdown",
   "metadata": {},
   "source": [
    "## **Importación de librerías.**"
   ]
  },
  {
   "cell_type": "code",
   "execution_count": null,
   "metadata": {},
   "outputs": [],
   "source": [
    "import pandas as pd"
   ]
  },
  {
   "attachments": {},
   "cell_type": "markdown",
   "metadata": {},
   "source": [
    "## **Carga de Dataframes.**"
   ]
  },
  {
   "cell_type": "code",
   "execution_count": null,
   "metadata": {},
   "outputs": [],
   "source": [
    "frutas_df = pd.read_csv('../data/frutas.csv')\n",
    "ensaladas_df = pd.read_csv('../data/ensaladas.csv')\n",
    "verduras_df = pd.read_csv('../data/verduras.csv')"
   ]
  },
  {
   "cell_type": "code",
   "execution_count": null,
   "metadata": {},
   "outputs": [],
   "source": [
    "prod"
   ]
  },
  {
   "cell_type": "code",
   "execution_count": null,
   "metadata": {},
   "outputs": [],
   "source": [
    "subcat"
   ]
  },
  {
   "cell_type": "code",
   "execution_count": null,
   "metadata": {},
   "outputs": [],
   "source": [
    "cat"
   ]
  },
  {
   "cell_type": "code",
   "execution_count": null,
   "metadata": {},
   "outputs": [],
   "source": [
    "prod = pd.read_csv('../data/productos.csv')\n",
    "subcat = pd.read_csv('../data/subcategorias.csv')\n",
    "cat = pd.read_csv('../data/categorias.csv')"
   ]
  },
  {
   "attachments": {},
   "cell_type": "markdown",
   "metadata": {},
   "source": [
    "## **Transformación.**"
   ]
  },
  {
   "attachments": {},
   "cell_type": "markdown",
   "metadata": {},
   "source": [
    "### **Tabla de Productos.**"
   ]
  },
  {
   "cell_type": "code",
   "execution_count": null,
   "metadata": {},
   "outputs": [],
   "source": [
    "# crear una lista conjunta de todos los productos\n",
    "list_prod = frutas + ensaladas + verduras\n",
    "\n",
    "# crear un diccionario con nombres de producto\n",
    "prod_dic = {'producto' : list_prod}\n",
    "\n",
    "# crear el DataFrame\n",
    "prod_df = pd.DataFrame(prod_dic)\n",
    "\n",
    "prod_df"
   ]
  },
  {
   "cell_type": "code",
   "execution_count": null,
   "metadata": {},
   "outputs": [],
   "source": [
    "prod.insert(0, 'producto_id', range(1, len(prod)+1))\n",
    "prod"
   ]
  },
  {
   "attachments": {},
   "cell_type": "markdown",
   "metadata": {},
   "source": [
    "### **Tabla de Subcategorías.**"
   ]
  },
  {
   "cell_type": "code",
   "execution_count": null,
   "metadata": {},
   "outputs": [],
   "source": [
    "# crear una lista conjunta de todas las subcategorias\n",
    "list_subcat= sub_fruta + sub_ensalada + sub_verdura\n",
    "\n",
    "# crear un diccionario con ids y nombres de subcategorias\n",
    "subcat_dic = {'subcategoria' : list_subcat}\n",
    "\n",
    "# crear el DataFrame\n",
    "subcat_df = pd.DataFrame(subcat_dic)\n",
    "\n",
    "subcat_df"
   ]
  },
  {
   "cell_type": "code",
   "execution_count": null,
   "metadata": {},
   "outputs": [],
   "source": [
    "subcat.insert(0, 'subcategoria_id', range(1, len(subcat)+1))\n",
    "subcat"
   ]
  },
  {
   "attachments": {},
   "cell_type": "markdown",
   "metadata": {},
   "source": [
    "### **Tabla de Categorías.**"
   ]
  },
  {
   "cell_type": "code",
   "execution_count": null,
   "metadata": {},
   "outputs": [],
   "source": [
    "# crear una lista conjunta de todas las categorias\n",
    "list_cat= [cat_fruta, cat_ensalada, cat_verdura]\n",
    "\n",
    "# crear un diccionario con ids y nombres de subcategorias\n",
    "cat_dic = {'categoria' : list_cat}\n",
    "\n",
    "# crear el DataFrame\n",
    "cat_df = pd.DataFrame(cat_dic)\n",
    "\n",
    "cat_df"
   ]
  },
  {
   "cell_type": "code",
   "execution_count": null,
   "metadata": {},
   "outputs": [],
   "source": [
    "cat.insert(0, 'categoria_id', range(1, len(cat)+1))\n",
    "cat"
   ]
  }
 ],
 "metadata": {
  "kernelspec": {
   "display_name": "base",
   "language": "python",
   "name": "python3"
  },
  "language_info": {
   "codemirror_mode": {
    "name": "ipython",
    "version": 3
   },
   "file_extension": ".py",
   "mimetype": "text/x-python",
   "name": "python",
   "nbconvert_exporter": "python",
   "pygments_lexer": "ipython3",
   "version": "3.9.13"
  },
  "orig_nbformat": 4
 },
 "nbformat": 4,
 "nbformat_minor": 2
}
